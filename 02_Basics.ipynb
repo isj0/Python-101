{
 "cells": [
  {
   "cell_type": "code",
   "execution_count": null,
   "id": "54aad3c1",
   "metadata": {},
   "outputs": [
    {
     "name": "stdout",
     "output_type": "stream",
     "text": [
      "Good Evening\n",
      "Good night\n"
     ]
    }
   ],
   "source": [
    "# What are Variables?\n",
    "# Variables are boxes that hold values\n",
    "# Here the variable message has the value \"Good Evening\"\n",
    "\n",
    "message = \"Good Evening\"\n",
    "print(message)\n",
    "\n",
    "# You can change the value of the \n",
    "# variable at any time.\n",
    "# Python will keep track of the new value\n",
    "message = \"Good night\"\n",
    "print(message)\n",
    "\n",
    "# Variable names - only letter, numbers & underscores\n",
    "# variable names cannot start with a number\n",
    "# spaces are not allowed\n",
    "# short and descriptive variable names\n",
    "\n",
    "# Errors\n",
    "# Traceback is a recod of where the Python\n",
    "# interpreter ran into trouble when executing the code\n"
   ]
  },
  {
   "cell_type": "code",
   "execution_count": null,
   "id": "f69387e5",
   "metadata": {},
   "outputs": [
    {
     "data": {
      "text/plain": [
       "'This is string'"
      ]
     },
     "execution_count": 6,
     "metadata": {},
     "output_type": "execute_result"
    }
   ],
   "source": [
    "\n",
    "# Strings - Series of characters.\n",
    "# Strings are inside single and double quotes\n",
    "\n",
    "\"This is string\""
   ]
  },
  {
   "cell_type": "code",
   "execution_count": 7,
   "id": "32fb287e",
   "metadata": {},
   "outputs": [
    {
     "data": {
      "text/plain": [
       "'This is also a string'"
      ]
     },
     "execution_count": 7,
     "metadata": {},
     "output_type": "execute_result"
    }
   ],
   "source": [
    "'This is also a string'"
   ]
  },
  {
   "cell_type": "code",
   "execution_count": 1,
   "id": "abf41132",
   "metadata": {},
   "outputs": [
    {
     "name": "stdout",
     "output_type": "stream",
     "text": [
      "Issac Newton\n"
     ]
    }
   ],
   "source": [
    "# A method is an action that python can perform on data\n",
    "# dot(.) after the variable tells python to make title()\n",
    "# method act on the variable name\n",
    "# every method is followed by a set of parentheses\n",
    "\n",
    "# title() method - displays each word in titlecase - capital letter\n",
    "\n",
    "name = \"issac newton\"\n",
    "print(name.title())"
   ]
  },
  {
   "cell_type": "code",
   "execution_count": 10,
   "id": "3776d713",
   "metadata": {},
   "outputs": [
    {
     "name": "stdout",
     "output_type": "stream",
     "text": [
      "ADA LOVELACE\n",
      "ada lovelace\n"
     ]
    }
   ],
   "source": [
    "name = \"Ada Lovelace\"\n",
    "# upper() method - change the case to uppercase\n",
    "print(name.upper())\n",
    "\n",
    "# lower() - change the case to lower case\n",
    "print(name.lower())"
   ]
  },
  {
   "cell_type": "code",
   "execution_count": 7,
   "id": "ff0aa6f1",
   "metadata": {},
   "outputs": [
    {
     "name": "stdout",
     "output_type": "stream",
     "text": [
      "alberteinstein\n",
      "albert einstein\n",
      "Hello, Albert Einstein!\n",
      "Lets code Python Albert Einstein!\n"
     ]
    }
   ],
   "source": [
    "# combine or concat strings\n",
    "# We can join/concat 2 strings using \"+\"\n",
    "first_name = \"albert\"\n",
    "last_name = \"einstein\"\n",
    "full_name = first_name + last_name\n",
    "print(full_name)\n",
    "\n",
    "# lets make it a bit nicer\n",
    "full_name = first_name + \" \" + last_name\n",
    "print(full_name)\n",
    "\n",
    "print(\"Hello, \" + full_name.title() + \"!\")\n",
    "\n",
    "message = \"Lets code Python \" + full_name.title() + \"!\"\n",
    "print(message)\n"
   ]
  },
  {
   "cell_type": "code",
   "execution_count": 10,
   "id": "a5f24b3a",
   "metadata": {},
   "outputs": [
    {
     "name": "stdout",
     "output_type": "stream",
     "text": [
      "Languages:\n",
      "Python\n",
      "C\n",
      "JavaScript\n",
      "C++\n",
      "------------------------------------\n",
      "\n",
      "Languages:\n",
      "\tPython\n",
      "\tC\n",
      "\tJavaScript\n",
      "\tC++\n"
     ]
    }
   ],
   "source": [
    "# You can add whitespace and new line in your strings\n",
    "# Use \\t to add tab space, and \\n to add a new line\n",
    "\n",
    "print(\"Languages:\\nPython\\nC\\nJavaScript\\nC++\")\n",
    "print(\"------------------------------------\\n\")\n",
    "print(\"Languages:\\n\\tPython\\n\\tC\\n\\tJavaScript\\n\\tC++\")"
   ]
  },
  {
   "cell_type": "code",
   "execution_count": 19,
   "id": "527c6852",
   "metadata": {},
   "outputs": [
    {
     "data": {
      "text/plain": [
       "'Apple      '"
      ]
     },
     "execution_count": 19,
     "metadata": {},
     "output_type": "execute_result"
    }
   ],
   "source": [
    "# To remove extra whitespace on the right and left side of a string\n",
    "fav_fruit = \"Apple      \"\n",
    "fav_fruit\n"
   ]
  },
  {
   "cell_type": "code",
   "execution_count": 20,
   "id": "f3210075",
   "metadata": {},
   "outputs": [
    {
     "data": {
      "text/plain": [
       "'Apple      '"
      ]
     },
     "execution_count": 20,
     "metadata": {},
     "output_type": "execute_result"
    }
   ],
   "source": [
    "# rstrip() removes extra whitespace from the right of the string\n",
    "# using the method this way - remove the whitespace temporarily\n",
    "fav_fruit.rstrip()\n",
    "fav_fruit\n"
   ]
  },
  {
   "cell_type": "code",
   "execution_count": 21,
   "id": "2a256c12",
   "metadata": {},
   "outputs": [
    {
     "data": {
      "text/plain": [
       "'Apple'"
      ]
     },
     "execution_count": 21,
     "metadata": {},
     "output_type": "execute_result"
    }
   ],
   "source": [
    "# to remove the whitespace permanently\n",
    "# store the stripped value back into the variable\n",
    "fav_fruit = fav_fruit.rstrip()\n",
    "fav_fruit"
   ]
  },
  {
   "cell_type": "code",
   "execution_count": 22,
   "id": "99fd2c94",
   "metadata": {},
   "outputs": [
    {
     "data": {
      "text/plain": [
       "'Roohafza'"
      ]
     },
     "execution_count": 22,
     "metadata": {},
     "output_type": "execute_result"
    }
   ],
   "source": [
    "# lstrip removes extra whitespace from the left of the string\n",
    "fav_drink = \"       Roohafza\"\n",
    "fav_drink = fav_drink.lstrip()\n",
    "fav_drink"
   ]
  },
  {
   "cell_type": "code",
   "execution_count": 23,
   "id": "a4de8739",
   "metadata": {},
   "outputs": [
    {
     "data": {
      "text/plain": [
       "'   Basketball              '"
      ]
     },
     "execution_count": 23,
     "metadata": {},
     "output_type": "execute_result"
    }
   ],
   "source": [
    "# strip method will strip all the whitespace\n",
    "# from both left and right side of a string\n",
    "fav_sport = \"   Basketball              \"\n",
    "fav_sport"
   ]
  },
  {
   "cell_type": "code",
   "execution_count": 24,
   "id": "dbc0f792",
   "metadata": {},
   "outputs": [
    {
     "data": {
      "text/plain": [
       "'Basketball'"
      ]
     },
     "execution_count": 24,
     "metadata": {},
     "output_type": "execute_result"
    }
   ],
   "source": [
    "fav_sport.strip()"
   ]
  },
  {
   "cell_type": "code",
   "execution_count": null,
   "id": "b6335304",
   "metadata": {},
   "outputs": [
    {
     "name": "stdout",
     "output_type": "stream",
     "text": [
      "Hello nikola tesla, would you like to learn some Python today?\n"
     ]
    }
   ],
   "source": [
    "# Ex 2.3 - Personal Message\n",
    "name = \"nikola tesla\"\n",
    "print(\"Hello \" + name + \", would you like to learn some Python today?\")\n"
   ]
  },
  {
   "cell_type": "code",
   "execution_count": 29,
   "id": "52b52b3b",
   "metadata": {},
   "outputs": [
    {
     "name": "stdout",
     "output_type": "stream",
     "text": [
      "nikola tesla\n",
      "NIKOLA TESLA\n",
      "Nikola Tesla\n"
     ]
    }
   ],
   "source": [
    "# Ex2.4 - Name Cases\n",
    "name = \"nIkOlA tEsLa\"\n",
    "print(name.lower())\n",
    "print(name.upper())\n",
    "print(name.title())"
   ]
  },
  {
   "cell_type": "code",
   "execution_count": null,
   "id": "f389b7f3",
   "metadata": {},
   "outputs": [],
   "source": [
    "# Ex2.5 - Famous Quote\n"
   ]
  }
 ],
 "metadata": {
  "kernelspec": {
   "display_name": "Python 3",
   "language": "python",
   "name": "python3"
  },
  "language_info": {
   "codemirror_mode": {
    "name": "ipython",
    "version": 3
   },
   "file_extension": ".py",
   "mimetype": "text/x-python",
   "name": "python",
   "nbconvert_exporter": "python",
   "pygments_lexer": "ipython3",
   "version": "3.13.2"
  }
 },
 "nbformat": 4,
 "nbformat_minor": 5
}
