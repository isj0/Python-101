{
 "cells": [
  {
   "cell_type": "markdown",
   "id": "da30643f",
   "metadata": {},
   "source": [
    "### Variables"
   ]
  },
  {
   "cell_type": "code",
   "execution_count": null,
   "id": "54aad3c1",
   "metadata": {},
   "outputs": [
    {
     "name": "stdout",
     "output_type": "stream",
     "text": [
      "Good Evening\n",
      "Good night\n"
     ]
    }
   ],
   "source": [
    "# What are Variables?\n",
    "# Variables are boxes that hold values\n",
    "# Here the variable message has the value \"Good Evening\"\n",
    "\n",
    "message = \"Good Evening\"\n",
    "print(message)\n",
    "\n",
    "# You can change the value of the \n",
    "# variable at any time.\n",
    "# Python will keep track of the new value\n",
    "message = \"Good night\"\n",
    "print(message)\n",
    "\n",
    "# Variable names - only letter, numbers & underscores\n",
    "# variable names cannot start with a number\n",
    "# spaces are not allowed\n",
    "# short and descriptive variable names\n",
    "\n",
    "# Errors\n",
    "# Traceback is a recod of where the Python\n",
    "# interpreter ran into trouble when executing the code\n"
   ]
  },
  {
   "cell_type": "markdown",
   "id": "d36cbb02",
   "metadata": {},
   "source": [
    "### Strings"
   ]
  },
  {
   "cell_type": "code",
   "execution_count": null,
   "id": "f69387e5",
   "metadata": {},
   "outputs": [
    {
     "data": {
      "text/plain": [
       "'This is string'"
      ]
     },
     "execution_count": 6,
     "metadata": {},
     "output_type": "execute_result"
    }
   ],
   "source": [
    "\n",
    "# Strings - Series of characters.\n",
    "# Strings are inside single and double quotes\n",
    "\n",
    "\"This is string\""
   ]
  },
  {
   "cell_type": "code",
   "execution_count": 7,
   "id": "32fb287e",
   "metadata": {},
   "outputs": [
    {
     "data": {
      "text/plain": [
       "'This is also a string'"
      ]
     },
     "execution_count": 7,
     "metadata": {},
     "output_type": "execute_result"
    }
   ],
   "source": [
    "'This is also a string'"
   ]
  },
  {
   "cell_type": "code",
   "execution_count": 1,
   "id": "abf41132",
   "metadata": {},
   "outputs": [
    {
     "name": "stdout",
     "output_type": "stream",
     "text": [
      "Issac Newton\n"
     ]
    }
   ],
   "source": [
    "# A method is an action that python can perform on data\n",
    "# dot(.) after the variable tells python to make title()\n",
    "# method act on the variable name\n",
    "# every method is followed by a set of parentheses\n",
    "\n",
    "# title() method - displays each word in titlecase - capital letter\n",
    "\n",
    "name = \"issac newton\"\n",
    "print(name.title())"
   ]
  },
  {
   "cell_type": "code",
   "execution_count": 10,
   "id": "3776d713",
   "metadata": {},
   "outputs": [
    {
     "name": "stdout",
     "output_type": "stream",
     "text": [
      "ADA LOVELACE\n",
      "ada lovelace\n"
     ]
    }
   ],
   "source": [
    "name = \"Ada Lovelace\"\n",
    "# upper() method - change the case to uppercase\n",
    "print(name.upper())\n",
    "\n",
    "# lower() - change the case to lower case\n",
    "print(name.lower())"
   ]
  },
  {
   "cell_type": "code",
   "execution_count": 54,
   "id": "ff0aa6f1",
   "metadata": {},
   "outputs": [
    {
     "name": "stdout",
     "output_type": "stream",
     "text": [
      "albert einstein\n",
      "Hello, Albert Einstein!\n",
      "Lets code Python, Albert Einstein !\n"
     ]
    }
   ],
   "source": [
    "# combine or concat strings\n",
    "# We can join/concat 2 strings using \"+\"\n",
    "first_name = \"albert\"\n",
    "last_name = \"einstein\"\n",
    "\n",
    "# f-strings - replace each variable with its value\n",
    "full_name = f\"{first_name} {last_name}\"\n",
    "print(full_name)\n",
    "\n",
    "# lets make it a bit nicer\n",
    "print(f\"Hello, {full_name.title()}!\")\n",
    "\n",
    "message = f\"Lets code Python, {full_name.title()} !\"\n",
    "print(message)\n"
   ]
  },
  {
   "cell_type": "code",
   "execution_count": 10,
   "id": "a5f24b3a",
   "metadata": {},
   "outputs": [
    {
     "name": "stdout",
     "output_type": "stream",
     "text": [
      "Languages:\n",
      "Python\n",
      "C\n",
      "JavaScript\n",
      "C++\n",
      "------------------------------------\n",
      "\n",
      "Languages:\n",
      "\tPython\n",
      "\tC\n",
      "\tJavaScript\n",
      "\tC++\n"
     ]
    }
   ],
   "source": [
    "# You can add whitespace and new line in your strings\n",
    "# Use \\t to add tab space, and \\n to add a new line\n",
    "\n",
    "print(\"Languages:\\nPython\\nC\\nJavaScript\\nC++\")\n",
    "print(\"------------------------------------\\n\")\n",
    "print(\"Languages:\\n\\tPython\\n\\tC\\n\\tJavaScript\\n\\tC++\")"
   ]
  },
  {
   "cell_type": "code",
   "execution_count": 19,
   "id": "527c6852",
   "metadata": {},
   "outputs": [
    {
     "data": {
      "text/plain": [
       "'Apple      '"
      ]
     },
     "execution_count": 19,
     "metadata": {},
     "output_type": "execute_result"
    }
   ],
   "source": [
    "# To remove extra whitespace on the right and left side of a string\n",
    "fav_fruit = \"Apple      \"\n",
    "fav_fruit\n"
   ]
  },
  {
   "cell_type": "code",
   "execution_count": 20,
   "id": "f3210075",
   "metadata": {},
   "outputs": [
    {
     "data": {
      "text/plain": [
       "'Apple      '"
      ]
     },
     "execution_count": 20,
     "metadata": {},
     "output_type": "execute_result"
    }
   ],
   "source": [
    "# rstrip() removes extra whitespace from the right of the string\n",
    "# using the method this way - remove the whitespace temporarily\n",
    "fav_fruit.rstrip()\n",
    "fav_fruit\n"
   ]
  },
  {
   "cell_type": "code",
   "execution_count": 21,
   "id": "2a256c12",
   "metadata": {},
   "outputs": [
    {
     "data": {
      "text/plain": [
       "'Apple'"
      ]
     },
     "execution_count": 21,
     "metadata": {},
     "output_type": "execute_result"
    }
   ],
   "source": [
    "# to remove the whitespace permanently\n",
    "# store the stripped value back into the variable\n",
    "fav_fruit = fav_fruit.rstrip()\n",
    "fav_fruit"
   ]
  },
  {
   "cell_type": "code",
   "execution_count": 22,
   "id": "99fd2c94",
   "metadata": {},
   "outputs": [
    {
     "data": {
      "text/plain": [
       "'Roohafza'"
      ]
     },
     "execution_count": 22,
     "metadata": {},
     "output_type": "execute_result"
    }
   ],
   "source": [
    "# lstrip removes extra whitespace from the left of the string\n",
    "fav_drink = \"       Roohafza\"\n",
    "fav_drink = fav_drink.lstrip()\n",
    "fav_drink"
   ]
  },
  {
   "cell_type": "code",
   "execution_count": 23,
   "id": "a4de8739",
   "metadata": {},
   "outputs": [
    {
     "data": {
      "text/plain": [
       "'   Basketball              '"
      ]
     },
     "execution_count": 23,
     "metadata": {},
     "output_type": "execute_result"
    }
   ],
   "source": [
    "# strip method will strip all the whitespace\n",
    "# from both left and right side of a string\n",
    "fav_sport = \"   Basketball              \"\n",
    "fav_sport"
   ]
  },
  {
   "cell_type": "code",
   "execution_count": 24,
   "id": "dbc0f792",
   "metadata": {},
   "outputs": [
    {
     "data": {
      "text/plain": [
       "'Basketball'"
      ]
     },
     "execution_count": 24,
     "metadata": {},
     "output_type": "execute_result"
    }
   ],
   "source": [
    "fav_sport.strip()"
   ]
  },
  {
   "cell_type": "code",
   "execution_count": 59,
   "id": "7ba6b137",
   "metadata": {},
   "outputs": [
    {
     "name": "stdout",
     "output_type": "stream",
     "text": [
      "google.com\n",
      "https://google.com\n"
     ]
    },
    {
     "data": {
      "text/plain": [
       "'google.com'"
      ]
     },
     "execution_count": 59,
     "metadata": {},
     "output_type": "execute_result"
    }
   ],
   "source": [
    "# Removing Prefixes\n",
    "url = 'https://google.com'\n",
    "print(url.removeprefix('https://'))\n",
    "print(url)\n",
    "url = url.removeprefix('https://')\n",
    "url"
   ]
  },
  {
   "cell_type": "code",
   "execution_count": null,
   "id": "b6335304",
   "metadata": {},
   "outputs": [
    {
     "name": "stdout",
     "output_type": "stream",
     "text": [
      "Hello nikola tesla, would you like to learn some Python today?\n"
     ]
    }
   ],
   "source": [
    "# Ex 2.3 - Personal Message\n",
    "name = \"nikola tesla\"\n",
    "print(\"Hello \" + name + \", would you like to learn some Python today?\")\n"
   ]
  },
  {
   "cell_type": "code",
   "execution_count": 29,
   "id": "52b52b3b",
   "metadata": {},
   "outputs": [
    {
     "name": "stdout",
     "output_type": "stream",
     "text": [
      "nikola tesla\n",
      "NIKOLA TESLA\n",
      "Nikola Tesla\n"
     ]
    }
   ],
   "source": [
    "# Ex2.4 - Name Cases\n",
    "name = \"nIkOlA tEsLa\"\n",
    "print(name.lower())\n",
    "print(name.upper())\n",
    "print(name.title())"
   ]
  },
  {
   "cell_type": "code",
   "execution_count": 32,
   "id": "f389b7f3",
   "metadata": {},
   "outputs": [
    {
     "name": "stdout",
     "output_type": "stream",
     "text": [
      "Albert Einstein once said, \"A person who never made a mistake never tried anything new.\"\n"
     ]
    }
   ],
   "source": [
    "# Ex2.5, & 2.6 - Famous Quote\n",
    "person = \"albert einstein\"\n",
    "quote = '\"A person who never made a mistake never tried anything new.\"'\n",
    "output = person.title() + \" once said, \" + quote\n",
    "print(output)\n"
   ]
  },
  {
   "cell_type": "code",
   "execution_count": 41,
   "id": "374b38bf",
   "metadata": {},
   "outputs": [
    {
     "name": "stdout",
     "output_type": "stream",
     "text": [
      "\t\t\n",
      "\t\talan turing\t\t\t\n",
      "alan turing\t\t\t\n",
      "\t\t\n",
      "\t\talan turing\n",
      "alan turing\n"
     ]
    }
   ],
   "source": [
    "# Ex2.7 - Stripping Names\n",
    "name = \"\\t\\t\\n\\t\\talan turing\\t\\t\\t\"\n",
    "print(name)\n",
    "print(name.lstrip())\n",
    "print(name.rstrip())\n",
    "print(name.strip())"
   ]
  },
  {
   "cell_type": "code",
   "execution_count": 61,
   "id": "fcbc93d1",
   "metadata": {},
   "outputs": [
    {
     "name": "stdout",
     "output_type": "stream",
     "text": [
      "python_notes\n"
     ]
    }
   ],
   "source": [
    "# Ex2.8 - File Extensions\n",
    "\n",
    "filename = 'python_notes.txt'\n",
    "new_filename = filename.removesuffix('.txt')\n",
    "print(new_filename)"
   ]
  },
  {
   "cell_type": "markdown",
   "id": "89f38085",
   "metadata": {},
   "source": [
    "### Numbers"
   ]
  },
  {
   "cell_type": "code",
   "execution_count": null,
   "id": "8359239d",
   "metadata": {},
   "outputs": [
    {
     "name": "stdout",
     "output_type": "stream",
     "text": [
      "0.30000000000000004\n",
      "0.30000000000000004\n"
     ]
    }
   ],
   "source": [
    "# Basic arithmetic operators\n",
    "# +, -, *, /, //, %, **\n",
    "# / - floating point division (decimals)\n",
    "# // - integer division\n",
    "# Order of operation is from left to right - PEMDAS\n",
    "# If you mix an integer with a float in any operation- the result will be a float\n",
    "# Python defaults to a float in any operation that uses a float"
   ]
  },
  {
   "cell_type": "markdown",
   "id": "423a4794",
   "metadata": {},
   "source": [
    "#### Floats"
   ]
  },
  {
   "cell_type": "code",
   "execution_count": null,
   "id": "7e9a4886",
   "metadata": {},
   "outputs": [
    {
     "name": "stdout",
     "output_type": "stream",
     "text": [
      "0.30000000000000004\n",
      "0.30000000000000004\n"
     ]
    }
   ],
   "source": [
    "# Be aware of impercision with floats\n",
    "\n",
    "print(0.2 + 0.1)\n",
    "print(3 * 0.1)"
   ]
  },
  {
   "cell_type": "code",
   "execution_count": 49,
   "id": "e8d14cf0",
   "metadata": {},
   "outputs": [
    {
     "data": {
      "text/plain": [
       "1.5"
      ]
     },
     "execution_count": 49,
     "metadata": {},
     "output_type": "execute_result"
    }
   ],
   "source": [
    "3 / 2"
   ]
  },
  {
   "cell_type": "code",
   "execution_count": 50,
   "id": "55a98ddc",
   "metadata": {},
   "outputs": [
    {
     "data": {
      "text/plain": [
       "1.5"
      ]
     },
     "execution_count": 50,
     "metadata": {},
     "output_type": "execute_result"
    }
   ],
   "source": [
    "3.0 / 2"
   ]
  },
  {
   "cell_type": "code",
   "execution_count": 51,
   "id": "60171acf",
   "metadata": {},
   "outputs": [
    {
     "data": {
      "text/plain": [
       "1"
      ]
     },
     "execution_count": 51,
     "metadata": {},
     "output_type": "execute_result"
    }
   ],
   "source": [
    "3 // 2"
   ]
  },
  {
   "cell_type": "code",
   "execution_count": 63,
   "id": "fd1f7581",
   "metadata": {},
   "outputs": [
    {
     "name": "stdout",
     "output_type": "stream",
     "text": [
      "Happy 100th Birthday!\n"
     ]
    }
   ],
   "source": [
    "# Type errors\n",
    "age =  100\n",
    "# message = \"happy \" + age + \"th Birthday!\"\n",
    "\n",
    "# You need to specify explicity that you\n",
    "# want to use the integer variable as a string\n",
    "# to do that using str() function\n",
    "# str() function tells Python to represent non-string values as strings\n",
    "message = f\"Happy {str(age)}th Birthday!\"\n",
    "print(message)"
   ]
  },
  {
   "cell_type": "code",
   "execution_count": 64,
   "id": "62e55e24",
   "metadata": {},
   "outputs": [
    {
     "name": "stdout",
     "output_type": "stream",
     "text": [
      "14000000000\n"
     ]
    }
   ],
   "source": [
    "# Underscores in numbers\n",
    "# Group digits of large numbers to it more readable\n",
    "\n",
    "universe_age = 14_000_000_000\n",
    "print(universe_age)"
   ]
  },
  {
   "cell_type": "code",
   "execution_count": 65,
   "id": "9c30c349",
   "metadata": {},
   "outputs": [
    {
     "data": {
      "text/plain": [
       "14000000000"
      ]
     },
     "execution_count": 65,
     "metadata": {},
     "output_type": "execute_result"
    }
   ],
   "source": [
    "universe_age"
   ]
  },
  {
   "cell_type": "code",
   "execution_count": 66,
   "id": "5c65223a",
   "metadata": {},
   "outputs": [
    {
     "data": {
      "text/plain": [
       "(0, 1, 2)"
      ]
     },
     "execution_count": 66,
     "metadata": {},
     "output_type": "execute_result"
    }
   ],
   "source": [
    "# Multiple Assignment\n",
    "# Initialize a set of numbers\n",
    "\n",
    "x,y,z = 0, 1, 2\n",
    "x,y,z"
   ]
  },
  {
   "cell_type": "code",
   "execution_count": 68,
   "id": "bf454d86",
   "metadata": {},
   "outputs": [
    {
     "name": "stdout",
     "output_type": "stream",
     "text": [
      "8\n",
      "8\n",
      "8\n",
      "8\n"
     ]
    }
   ],
   "source": [
    "# Ex2.9 Number Eight\n",
    "print(5+3)\n",
    "print(99999 - 99991)\n",
    "print(-2 * -4)\n",
    "print(800 // 100)"
   ]
  },
  {
   "cell_type": "code",
   "execution_count": 70,
   "id": "eddd1c7e",
   "metadata": {},
   "outputs": [
    {
     "name": "stdout",
     "output_type": "stream",
     "text": [
      "Favorite number: 3.14159 !!! wooooo\n"
     ]
    }
   ],
   "source": [
    "# Ex 3.10 - Favorite Number\n",
    "fav_num = 3.14159\n",
    "print(f'Favorite number: {fav_num} !!! wooooo')"
   ]
  },
  {
   "cell_type": "code",
   "execution_count": 71,
   "id": "c8e0f223",
   "metadata": {},
   "outputs": [
    {
     "name": "stdout",
     "output_type": "stream",
     "text": [
      "The Zen of Python, by Tim Peters\n",
      "\n",
      "Beautiful is better than ugly.\n",
      "Explicit is better than implicit.\n",
      "Simple is better than complex.\n",
      "Complex is better than complicated.\n",
      "Flat is better than nested.\n",
      "Sparse is better than dense.\n",
      "Readability counts.\n",
      "Special cases aren't special enough to break the rules.\n",
      "Although practicality beats purity.\n",
      "Errors should never pass silently.\n",
      "Unless explicitly silenced.\n",
      "In the face of ambiguity, refuse the temptation to guess.\n",
      "There should be one-- and preferably only one --obvious way to do it.\n",
      "Although that way may not be obvious at first unless you're Dutch.\n",
      "Now is better than never.\n",
      "Although never is often better than *right* now.\n",
      "If the implementation is hard to explain, it's a bad idea.\n",
      "If the implementation is easy to explain, it may be a good idea.\n",
      "Namespaces are one honking great idea -- let's do more of those!\n"
     ]
    }
   ],
   "source": [
    "import this"
   ]
  },
  {
   "cell_type": "code",
   "execution_count": null,
   "id": "7e318e77",
   "metadata": {},
   "outputs": [],
   "source": []
  }
 ],
 "metadata": {
  "kernelspec": {
   "display_name": "Python 3",
   "language": "python",
   "name": "python3"
  },
  "language_info": {
   "codemirror_mode": {
    "name": "ipython",
    "version": 3
   },
   "file_extension": ".py",
   "mimetype": "text/x-python",
   "name": "python",
   "nbconvert_exporter": "python",
   "pygments_lexer": "ipython3",
   "version": "3.13.2"
  }
 },
 "nbformat": 4,
 "nbformat_minor": 5
}
