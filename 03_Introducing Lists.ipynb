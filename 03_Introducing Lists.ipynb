{
 "cells": [
  {
   "cell_type": "code",
   "execution_count": 49,
   "id": "444de0a7-950f-4134-aee4-1f120e0d1b5c",
   "metadata": {},
   "outputs": [],
   "source": [
    "# What are Lists?\n",
    "# List is a collection of items in certain order.\n",
    "# Lists are ordered collection.\n",
    "# You can put anything in your list.\n",
    "# Lists are Dynamic, you add, modify, remove\n",
    "# elements from the lists"
   ]
  },
  {
   "cell_type": "code",
   "execution_count": 51,
   "id": "2bf0d836-5865-46f5-a56e-9c9c3d6ba0a6",
   "metadata": {},
   "outputs": [
    {
     "name": "stdout",
     "output_type": "stream",
     "text": [
      "['trek', 'cannodale', 'redline', 'specialized']\n"
     ]
    }
   ],
   "source": [
    "bicycles = ['trek', 'cannodale', 'redline', 'specialized']\n",
    "print(bicycles)"
   ]
  },
  {
   "cell_type": "code",
   "execution_count": 57,
   "id": "9b44c9f1-c716-464d-8907-6e8a1c5ec9be",
   "metadata": {},
   "outputs": [
    {
     "name": "stdout",
     "output_type": "stream",
     "text": [
      "trek\n",
      "My first bike was Trek.\n"
     ]
    }
   ],
   "source": [
    "# Accessings elements in a list\n",
    "# list_name[index]\n",
    "# index positions start at 0\n",
    "\n",
    "print(bicycles[0])\n",
    "\n",
    "# a clean output\n",
    "message = f\"My first bike was {bicycles[0].title()}.\"\n",
    "print(message)"
   ]
  },
  {
   "cell_type": "code",
   "execution_count": 59,
   "id": "1d2edc28-d53a-40ad-883a-f4c3ed72c461",
   "metadata": {},
   "outputs": [
    {
     "data": {
      "text/plain": [
       "'specialized'"
      ]
     },
     "execution_count": 59,
     "metadata": {},
     "output_type": "execute_result"
    }
   ],
   "source": [
    "# Alternate way to access list elements\n",
    "# last item of the list\n",
    "bicycles[-1]"
   ]
  },
  {
   "cell_type": "code",
   "execution_count": 61,
   "id": "61f09ff5-7df0-4f61-a098-9a1be4fefde4",
   "metadata": {},
   "outputs": [
    {
     "name": "stdout",
     "output_type": "stream",
     "text": [
      "redline\n",
      "cannodale\n"
     ]
    }
   ],
   "source": [
    "# Second last\n",
    "print(bicycles[-2])\n",
    "# Thirs last\n",
    "print(bicycles[-3])"
   ]
  },
  {
   "cell_type": "code",
   "execution_count": 63,
   "id": "7d6cb63b-046e-432d-839f-3dbedbaede69",
   "metadata": {},
   "outputs": [
    {
     "name": "stdout",
     "output_type": "stream",
     "text": [
      "newton\n",
      "einstein\n",
      "tesla\n",
      "franklin\n",
      "edison\n"
     ]
    }
   ],
   "source": [
    "# Ex3.1\n",
    "# Create list of names\n",
    "names = ['newton', 'einstein', 'tesla', 'franklin', 'edison']\n",
    "# Now print each of the names in the list\n",
    "print(names[0])\n",
    "print(names[1])\n",
    "print(names[2])\n",
    "print(names[3])\n",
    "print(names[4])"
   ]
  },
  {
   "cell_type": "code",
   "execution_count": 65,
   "id": "35edfcbb-363c-4b16-938f-5106b5368595",
   "metadata": {},
   "outputs": [
    {
     "name": "stdout",
     "output_type": "stream",
     "text": [
      "Welcome to python, Sir Newton\n",
      "Welcome to python, Sir Einstein\n",
      "Welcome to python, Sir Tesla\n",
      "Welcome to python, Sir Franklin\n",
      "Welcome to python, Sir Edison\n"
     ]
    }
   ],
   "source": [
    "# Ex 3.2\n",
    "# create a message for each of the names in the list\n",
    "greeting = \"Welcome to python, Sir\"\n",
    "print(f\"{greeting} {names[0].title()}\")\n",
    "print(f\"{greeting} {names[1].title()}\")\n",
    "print(f\"{greeting} {names[2].title()}\")\n",
    "print(f\"{greeting} {names[3].title()}\")\n",
    "print(f\"{greeting} {names[4].title()}\")"
   ]
  },
  {
   "cell_type": "code",
   "execution_count": 67,
   "id": "2d87e1f4-a94d-4b20-b7e1-4f4205c6540e",
   "metadata": {},
   "outputs": [
    {
     "name": "stdout",
     "output_type": "stream",
     "text": [
      "I have a red Ferrari.\n",
      "I would like my LAMBO in Yellow.\n"
     ]
    }
   ],
   "source": [
    "# Ex 3.3\n",
    "# create lists, print the elements of lists\n",
    "\n",
    "cars = ['ferrari', 'audi', 'bmw', 'mercedes', 'lambo', 'bentley']\n",
    "colors = ['red', 'white', 'blue', 'black', 'yellow', 'purple']\n",
    "print(f'I have a {colors[0]} {cars[0].title()}.')\n",
    "print(f'I would like my {cars[4].upper()} in {colors[4].title()}.')"
   ]
  },
  {
   "cell_type": "code",
   "execution_count": 1,
   "id": "2718f9c5-5119-4fae-a83f-2c3d17a216dc",
   "metadata": {},
   "outputs": [
    {
     "name": "stdout",
     "output_type": "stream",
     "text": [
      "['honda', 'yamaha', 'suzuki']\n"
     ]
    }
   ],
   "source": [
    "motorcycles = ['honda', 'yamaha', 'suzuki']\n",
    "print(motorcycles)"
   ]
  },
  {
   "cell_type": "code",
   "execution_count": 3,
   "id": "a8a52034-d493-4bcc-9c0f-0cf37d753ecb",
   "metadata": {},
   "outputs": [
    {
     "name": "stdout",
     "output_type": "stream",
     "text": [
      "['ducati', 'yamaha', 'suzuki']\n"
     ]
    }
   ],
   "source": [
    "# changing the value of the first element\n",
    "motorcycles[0] = 'ducati'\n",
    "print(motorcycles)"
   ]
  },
  {
   "cell_type": "code",
   "execution_count": 5,
   "id": "87b76a4e",
   "metadata": {},
   "outputs": [
    {
     "name": "stdout",
     "output_type": "stream",
     "text": [
      "['honda', 'yamaha', 'suzuki']\n",
      "['honda', 'yamaha', 'suzuki', 'ducati']\n"
     ]
    }
   ],
   "source": [
    "# adding a new element to the list using append\n",
    "# using append, the new element is added to the end of the list\n",
    "\n",
    "motorcycles = ['honda', 'yamaha', 'suzuki']\n",
    "print(motorcycles)\n",
    "motorcycles.append('ducati')\n",
    "print(motorcycles)"
   ]
  },
  {
   "cell_type": "code",
   "execution_count": 8,
   "id": "6d819798",
   "metadata": {},
   "outputs": [
    {
     "name": "stdout",
     "output_type": "stream",
     "text": [
      "['honda', 'yamaha']\n",
      "['honda', 'yamaha', 'ducati']\n",
      "['honda', 'yamaha', 'ducati', 'suzuki']\n"
     ]
    }
   ],
   "source": [
    "# using append, you build lists dynamically\n",
    "motorcycles = []\n",
    "motorcycles.append('honda')\n",
    "motorcycles.append('yamaha')\n",
    "print(motorcycles)\n",
    "motorcycles.append('ducati')\n",
    "print(motorcycles)\n",
    "motorcycles.append('suzuki')\n",
    "print(motorcycles)"
   ]
  },
  {
   "cell_type": "code",
   "execution_count": 10,
   "id": "a116e88a",
   "metadata": {},
   "outputs": [
    {
     "name": "stdout",
     "output_type": "stream",
     "text": [
      "['ducati', 'ducati', 'honda', 'yamaha', 'ducati', 'suzuki']\n"
     ]
    }
   ],
   "source": [
    "# Inserting Elements into the List\n",
    "# at any position by using insert() method\n",
    "# this shifts every other value in the list\n",
    "# one position on the right\n",
    "\n",
    "motorcycles.insert(0, 'ducati')\n",
    "print(motorcycles)\n"
   ]
  },
  {
   "cell_type": "code",
   "execution_count": 15,
   "id": "cdef08ab",
   "metadata": {},
   "outputs": [
    {
     "name": "stdout",
     "output_type": "stream",
     "text": [
      "['honda', 'yamaha', 'suzuki']\n",
      "['yamaha', 'suzuki']\n",
      "['honda', 'yamaha', 'suzuki']\n",
      "['honda', 'suzuki']\n"
     ]
    }
   ],
   "source": [
    "# Removing elements from a list using del\n",
    "motorcycles = ['honda', 'yamaha', 'suzuki']\n",
    "print(motorcycles)\n",
    "\n",
    "# the first element is remove\n",
    "del motorcycles[0]\n",
    "print(motorcycles)\n",
    "\n",
    "motorcycles = ['honda', 'yamaha', 'suzuki']\n",
    "print(motorcycles)\n",
    "\n",
    "# the second element is removed\n",
    "del motorcycles[1]\n",
    "print(motorcycles)"
   ]
  },
  {
   "cell_type": "code",
   "id": "a3e835af",
   "metadata": {
    "ExecuteTime": {
     "end_time": "2025-05-08T02:07:47.957716Z",
     "start_time": "2025-05-08T02:07:47.931531Z"
    }
   },
   "source": [
    "# Removing elements using pop() method\n",
    "# pop() removed the last element from the list\n",
    "\n",
    "# use pop() when you want to use the list element as you remove it\n",
    "# use del when you removing the list element and not use it in any way\n",
    "\n",
    "motorcycles = ['honda', 'yamaha', 'suzuki']\n",
    "print(motorcycles)\n",
    "\n",
    "popped_motorcycles = motorcycles.pop()\n",
    "print(motorcycles)\n",
    "print(popped_motorcycles)"
   ],
   "outputs": [
    {
     "name": "stdout",
     "output_type": "stream",
     "text": [
      "['honda', 'yamaha', 'suzuki']\n",
      "['honda', 'yamaha']\n",
      "suzuki\n"
     ]
    }
   ],
   "execution_count": 2
  },
  {
   "metadata": {
    "ExecuteTime": {
     "end_time": "2025-05-08T02:10:18.477100Z",
     "start_time": "2025-05-08T02:10:18.472065Z"
    }
   },
   "cell_type": "code",
   "source": [
    "motorcycles = ['honda', 'yamaha', 'suzuki']\n",
    "last_owned = motorcycles.pop()\n",
    "first_owned = motorcycles.pop(0)\n",
    "\n",
    "print(f\"The last I owned was a {last_owned.title()}.\")\n",
    "print(f\"The first motorcycle I owned was a {first_owned.title()}.\")"
   ],
   "id": "a0453906176a537b",
   "outputs": [
    {
     "name": "stdout",
     "output_type": "stream",
     "text": [
      "The last I owned was a Suzuki.\n",
      "The first motorcycle I owned was a Honda.\n"
     ]
    }
   ],
   "execution_count": 3
  },
  {
   "metadata": {
    "ExecuteTime": {
     "end_time": "2025-05-08T02:14:29.319245Z",
     "start_time": "2025-05-08T02:14:29.304457Z"
    }
   },
   "cell_type": "code",
   "source": [
    "# if dont know the position of the element\n",
    "# and only know the value of the element\n",
    "# you can use the remove method\n",
    "# remove() method only deletes the first occurrence of the element\n",
    "\n",
    "motorcycles = ['honda', 'yamaha', 'suzuki', 'ducati']\n",
    "print(motorcycles)\n",
    "motorcycles.remove('ducati')\n",
    "print(motorcycles)"
   ],
   "id": "44d370c521723d41",
   "outputs": [
    {
     "name": "stdout",
     "output_type": "stream",
     "text": [
      "['honda', 'yamaha', 'suzuki', 'ducati']\n",
      "['honda', 'yamaha', 'suzuki']\n"
     ]
    }
   ],
   "execution_count": 4
  },
  {
   "metadata": {
    "ExecuteTime": {
     "end_time": "2025-05-08T02:16:02.555934Z",
     "start_time": "2025-05-08T02:16:02.550519Z"
    }
   },
   "cell_type": "code",
   "source": [
    "motorcycles = ['honda', 'yamaha', 'suzuki', 'ducati']\n",
    "print(motorcycles)\n",
    "\n",
    "too_expensive = 'ducati'\n",
    "motorcycles.remove(too_expensive)\n",
    "print(motorcycles)\n",
    "print(f\"\\nA {too_expensive.title()} is too expensive.\")"
   ],
   "id": "9df1f576a75294df",
   "outputs": [
    {
     "name": "stdout",
     "output_type": "stream",
     "text": [
      "['honda', 'yamaha', 'suzuki', 'ducati']\n",
      "['honda', 'yamaha', 'suzuki']\n",
      "\n",
      "A Ducati is too expensive.\n"
     ]
    }
   ],
   "execution_count": 5
  },
  {
   "metadata": {
    "ExecuteTime": {
     "end_time": "2025-05-08T02:54:43.685488Z",
     "start_time": "2025-05-08T02:54:43.671754Z"
    }
   },
   "cell_type": "code",
   "source": [
    "# Ex 3.4 - Guest List\n",
    "\n",
    "guests = ['shri krishna', 'sant kabir', 'raavan']\n",
    "greeting = 'Swagatam'\n",
    "print(f\"{greeting} Bhagwan {guests[0].title()}\")\n",
    "print(f\"{greeting}! {guests[1].title()}\")\n",
    "print(f\"{greeting}! {guests[2].title()}\")"
   ],
   "id": "2a6dd1bc6f39d167",
   "outputs": [
    {
     "name": "stdout",
     "output_type": "stream",
     "text": [
      "Swagatam Bhagwan Shri Krishna\n",
      "Swagatam! Sant Kabir\n",
      "Swagatam! Raavan\n"
     ]
    }
   ],
   "execution_count": 9
  },
  {
   "metadata": {
    "ExecuteTime": {
     "end_time": "2025-05-08T03:00:52.277174Z",
     "start_time": "2025-05-08T03:00:52.257668Z"
    }
   },
   "cell_type": "code",
   "source": [
    "# Ex 3.5 Changing Guest List\n",
    "\n",
    "guests = ['shri krishna', 'sant kabir', 'raavan']\n",
    "greeting = 'Swagatam'\n",
    "print(f\"{greeting} Bhagwan {guests[0].title()}\")\n",
    "print(f\"{greeting}! {guests[1].title()}\")\n",
    "print(f\"{greeting}! {guests[2].title()}\")\n",
    "print(f\"-------------------------------\")\n",
    "\n",
    "print(f\"{guests[-1].title()} is unable to make it to the Dinner.\")\n",
    "print(f\"-------------------------------\")\n",
    "guests[-1] = 'Prabhu Ram'\n",
    "print(f\"{greeting} Bhagwan {guests[0].title()}\")\n",
    "print(f\"{greeting}! {guests[1].title()}\")\n",
    "print(f\"{greeting}! {guests[2].title()}\")\n",
    "print(f\"-------------------------------\")\n",
    "\n"
   ],
   "id": "d9f415e14c03ce88",
   "outputs": [
    {
     "name": "stdout",
     "output_type": "stream",
     "text": [
      "Swagatam Bhagwan Shri Krishna\n",
      "Swagatam! Sant Kabir\n",
      "Swagatam! Raavan\n",
      "-------------------------------\n",
      "Raavan is unable to make it to the Dinner.\n",
      "-------------------------------\n",
      "Swagatam Bhagwan Shri Krishna\n",
      "Swagatam! Sant Kabir\n",
      "Swagatam! Prabhu Ram\n",
      "-------------------------------\n"
     ]
    }
   ],
   "execution_count": 11
  },
  {
   "metadata": {
    "ExecuteTime": {
     "end_time": "2025-05-08T03:30:24.976407Z",
     "start_time": "2025-05-08T03:30:24.963449Z"
    }
   },
   "cell_type": "code",
   "source": [
    "# Ex 3.6 More Guests\n",
    "\n",
    "guests = ['shri krishna', 'sant kabir', 'raavan']\n",
    "greeting = 'Swagatam'\n",
    "print(f\"{greeting} Bhagwan {guests[0].title()}\")\n",
    "print(f\"{greeting}! {guests[1].title()}\")\n",
    "print(f\"{greeting}! {guests[2].title()}\")\n",
    "print(f\"-------------------------------\")\n",
    "\n",
    "print(f\"{guests[-1].title()} is unable to make it to the Dinner.\")\n",
    "print(f\"-------------------------------\")\n",
    "guests[-1] = 'Prabhu Ram'\n",
    "print(f\"{greeting} Bhagwan {guests[0].title()}\")\n",
    "print(f\"{greeting}! {guests[1].title()}\")\n",
    "print(f\"{greeting}! {guests[2].title()}\")\n",
    "print(f\"-------------------------------\")\n",
    "print(\"God news! We've found a bigger table, and will see more of our long lost friends.\")\n",
    "\n",
    "guests.insert(0, 'Hanuman ji')\n",
    "guests.insert(len(guests)//2, 'Shiv ji')\n",
    "guests.append('Ganesh ji')\n",
    "print(f\"-------------------------------\")\n",
    "print(f\"{greeting} {guests[0].title()}\")\n",
    "print(f\"{greeting}! {guests[1].title()}\")\n",
    "print(f\"{greeting}! {guests[2].title()}\")\n",
    "print(f\"{greeting}  {guests[3].title()}\")\n",
    "print(f\"{greeting}! {guests[4].title()}\")\n",
    "print(f\"{greeting}! {guests[5].title()}\")\n",
    "print(f\"-------------------------------\")\n"
   ],
   "id": "e62023d75292d255",
   "outputs": [
    {
     "name": "stdout",
     "output_type": "stream",
     "text": [
      "Swagatam Bhagwan Shri Krishna\n",
      "Swagatam! Sant Kabir\n",
      "Swagatam! Raavan\n",
      "-------------------------------\n",
      "Raavan is unable to make it to the Dinner.\n",
      "-------------------------------\n",
      "Swagatam Bhagwan Shri Krishna\n",
      "Swagatam! Sant Kabir\n",
      "Swagatam! Prabhu Ram\n",
      "-------------------------------\n",
      "God news! We've found a bigger table, and will see more of our long lost friends.\n",
      "-------------------------------\n",
      "Swagatam Hanuman Ji\n",
      "Swagatam! Shri Krishna\n",
      "Swagatam! Shiv Ji\n",
      "Swagatam  Sant Kabir\n",
      "Swagatam! Prabhu Ram\n",
      "Swagatam! Ganesh Ji\n",
      "-------------------------------\n"
     ]
    }
   ],
   "execution_count": 17
  },
  {
   "metadata": {
    "ExecuteTime": {
     "end_time": "2025-05-08T03:43:31.863117Z",
     "start_time": "2025-05-08T03:43:31.849273Z"
    }
   },
   "cell_type": "code",
   "source": [
    "# Ex 3.7 Shrinking Guest List\n",
    "\n",
    "guests = ['shri krishna', 'sant kabir', 'raavan']\n",
    "greeting = 'Swagatam'\n",
    "print(f\"{greeting} Bhagwan {guests[0].title()}\")\n",
    "print(f\"{greeting}! {guests[1].title()}\")\n",
    "print(f\"{greeting}! {guests[2].title()}\")\n",
    "print(f\"-------------------------------\")\n",
    "\n",
    "print(f\"{guests[-1].title()} is unable to make it to the Dinner.\")\n",
    "print(f\"-------------------------------\")\n",
    "guests[-1] = 'Prabhu Ram'\n",
    "print(f\"{greeting} Bhagwan {guests[0].title()}\")\n",
    "print(f\"{greeting}! {guests[1].title()}\")\n",
    "print(f\"{greeting}! {guests[2].title()}\")\n",
    "print(f\"-------------------------------\")\n",
    "print(\"God news! We've found a bigger table, and will see more of our long lost friends.\")\n",
    "\n",
    "guests.insert(0, 'Hanuman ji')\n",
    "guests.insert(len(guests)//2, 'Shiv ji')\n",
    "guests.append('Ganesh ji')\n",
    "print(f\"-------------------------------\")\n",
    "print(f\"{greeting} {guests[0].title()}\")\n",
    "print(f\"{greeting}! {guests[1].title()}\")\n",
    "print(f\"{greeting}! {guests[2].title()}\")\n",
    "print(f\"{greeting}  {guests[3].title()}\")\n",
    "print(f\"{greeting}! {guests[4].title()}\")\n",
    "print(f\"{greeting}! {guests[5].title()}\")\n",
    "print(f\"-------------------------------\")\n",
    "print()\n",
    "print(\"Due to Mahayudh a only 2 guests are attending the dinner.\")\n",
    "not_attending = guests.pop()\n",
    "print(f\"{not_attending} is unable to make it to the Dinner.\")\n",
    "not_attending = guests.pop()\n",
    "print(f\"{not_attending} is unable to make it to the Dinner.\")\n",
    "not_attending = guests.pop()\n",
    "print(f\"{not_attending} is unable to make it to the Dinner.\")\n",
    "not_attending = guests.pop(0)\n",
    "print(f\"{not_attending} is unable to make it to the Dinner.\")\n",
    "print(\"---------------------------------------------------\")\n",
    "print(f\"{guests[0].title()} are giving Darshan.\")\n",
    "print(f\"{guests[0].title()} are giving Darshan.\")\n",
    "print(\"__________________________________________________\")\n",
    "print(\"The demon army is too strong !\")\n",
    "print(f\"Both {guests[0].title()} and {guests[1].title()}  will join the forces\")\n",
    "del guests[0]\n",
    "del guests[0]\n",
    "print(guests)\n"
   ],
   "id": "ee75ad93104c21bf",
   "outputs": [
    {
     "name": "stdout",
     "output_type": "stream",
     "text": [
      "Swagatam Bhagwan Shri Krishna\n",
      "Swagatam! Sant Kabir\n",
      "Swagatam! Raavan\n",
      "-------------------------------\n",
      "Raavan is unable to make it to the Dinner.\n",
      "-------------------------------\n",
      "Swagatam Bhagwan Shri Krishna\n",
      "Swagatam! Sant Kabir\n",
      "Swagatam! Prabhu Ram\n",
      "-------------------------------\n",
      "God news! We've found a bigger table, and will see more of our long lost friends.\n",
      "-------------------------------\n",
      "Swagatam Hanuman Ji\n",
      "Swagatam! Shri Krishna\n",
      "Swagatam! Shiv Ji\n",
      "Swagatam  Sant Kabir\n",
      "Swagatam! Prabhu Ram\n",
      "Swagatam! Ganesh Ji\n",
      "-------------------------------\n",
      "\n",
      "Due to Mahayudh a only 2 guests are attending the dinner.\n",
      "Ganesh ji is unable to make it to the Dinner.\n",
      "Prabhu Ram is unable to make it to the Dinner.\n",
      "sant kabir is unable to make it to the Dinner.\n",
      "Hanuman ji is unable to make it to the Dinner.\n",
      "---------------------------------------------------\n",
      "Shri Krishna are giving Darshan.\n",
      "Shri Krishna are giving Darshan.\n",
      "__________________________________________________\n",
      "The demon army is too strong !\n",
      "Both Shri Krishna and Shiv Ji  will join the forces\n",
      "[]\n"
     ]
    }
   ],
   "execution_count": 27
  },
  {
   "metadata": {
    "ExecuteTime": {
     "end_time": "2025-05-10T15:52:04.742315Z",
     "start_time": "2025-05-10T15:52:04.729671Z"
    }
   },
   "cell_type": "code",
   "source": [
    "# Organizing a list\n",
    "\n",
    "# Sorting list permanently with sort() method\n",
    "cars = ['bmw', 'audi', 'toyota', 'subaru']\n",
    "print(cars)\n",
    "cars.sort()\n",
    "print(cars)\n",
    "\n",
    "# sort() method changes the order permanently.\n",
    "# sort the list in reverse order\n",
    "cars.sort(reverse=True)\n",
    "print(cars)\n"
   ],
   "id": "558703628bf1aa70",
   "outputs": [
    {
     "name": "stdout",
     "output_type": "stream",
     "text": [
      "['bmw', 'audi', 'toyota', 'subaru']\n",
      "['audi', 'bmw', 'subaru', 'toyota']\n",
      "['toyota', 'subaru', 'bmw', 'audi']\n"
     ]
    }
   ],
   "execution_count": 3
  },
  {
   "metadata": {
    "ExecuteTime": {
     "end_time": "2025-05-10T15:55:01.188834Z",
     "start_time": "2025-05-10T15:55:01.180338Z"
    }
   },
   "cell_type": "code",
   "source": [
    "# Sort a list temporarily using sorted() function\n",
    "# ** Question: what is the difference between mehtod and function in Python\n",
    "\n",
    "cars = ['bmw', 'audi', 'toyota', 'subaru']\n",
    "print(f\"Here is the orginal list: {cars}\")\n",
    "print(f\"\\nHere is the sorted list: {sorted(cars)}\")\n",
    "print(f\"Here is the orginal list again: {cars}\")"
   ],
   "id": "8c94b9ac476653aa",
   "outputs": [
    {
     "name": "stdout",
     "output_type": "stream",
     "text": [
      "Here is the orginal list: ['bmw', 'audi', 'toyota', 'subaru']\n",
      "\n",
      "Here is the sorted list: ['audi', 'bmw', 'subaru', 'toyota']\n",
      "Here is the orginal list again: ['bmw', 'audi', 'toyota', 'subaru']\n"
     ]
    }
   ],
   "execution_count": 6
  },
  {
   "metadata": {
    "ExecuteTime": {
     "end_time": "2025-05-10T15:57:47.844712Z",
     "start_time": "2025-05-10T15:57:47.836754Z"
    }
   },
   "cell_type": "code",
   "source": [
    "# Printing a list in reverse order using reverse() method\n",
    "# reverse() does not sort backwards alphabetically,\n",
    "# it simply reverse the order of the elements of the list permanently\n",
    "\n",
    "cars = ['bmw', 'audi', 'toyota', 'subaru']\n",
    "print(cars)\n",
    "\n",
    "cars.reverse()\n",
    "print(cars)\n"
   ],
   "id": "d01d125bb5003a25",
   "outputs": [
    {
     "name": "stdout",
     "output_type": "stream",
     "text": [
      "['bmw', 'audi', 'toyota', 'subaru']\n",
      "['subaru', 'toyota', 'audi', 'bmw']\n"
     ]
    }
   ],
   "execution_count": 9
  },
  {
   "metadata": {
    "ExecuteTime": {
     "end_time": "2025-05-10T15:58:21.594570Z",
     "start_time": "2025-05-10T15:58:21.581603Z"
    }
   },
   "cell_type": "code",
   "source": [
    "# get the length of the list using len() function\n",
    "cars = ['bmw', 'audi', 'toyota', 'subaru']\n",
    "len(cars)"
   ],
   "id": "cfbff8c6f2f0e738",
   "outputs": [
    {
     "data": {
      "text/plain": [
       "4"
      ]
     },
     "execution_count": 10,
     "metadata": {},
     "output_type": "execute_result"
    }
   ],
   "execution_count": 10
  },
  {
   "metadata": {
    "ExecuteTime": {
     "end_time": "2025-05-10T16:21:40.659885Z",
     "start_time": "2025-05-10T16:21:40.652377Z"
    }
   },
   "cell_type": "code",
   "source": [
    "# Ex 3.8 Seeing the world\n",
    "\n",
    "locations = ['dolomites', 'vinicunca', 'godafoss', 'mount fuji', 'antartica']\n",
    "print(locations)\n",
    "\n",
    "# print list alphabetically without modifying the actual list\n",
    "print(sorted(locations))\n",
    "# print the original list\n",
    "print(locations)\n",
    "# print the list in reverse-alphabetical order\n",
    "print(sorted(locations, reverse=True))\n",
    "print(locations)\n",
    "\n",
    "# using revers() to change the order of the list\n",
    "locations.reverse()\n",
    "print(locations)\n",
    "\n",
    "# change the order of list to its original form\n",
    "locations.reverse()\n",
    "print(locations)\n",
    "\n",
    "# sort the list in alphbetical order using sort()\n",
    "locations.sort()\n",
    "print(locations)\n",
    "\n",
    "# sort the list in reverse-alphabetical order\n",
    "locations.sort(reverse=True)\n",
    "print(locations)"
   ],
   "id": "8acd674a163debb8",
   "outputs": [
    {
     "name": "stdout",
     "output_type": "stream",
     "text": [
      "['dolomites', 'vinicunca', 'godafoss', 'mount fuji', 'antartica']\n",
      "['antartica', 'dolomites', 'godafoss', 'mount fuji', 'vinicunca']\n",
      "['dolomites', 'vinicunca', 'godafoss', 'mount fuji', 'antartica']\n",
      "['vinicunca', 'mount fuji', 'godafoss', 'dolomites', 'antartica']\n",
      "['dolomites', 'vinicunca', 'godafoss', 'mount fuji', 'antartica']\n",
      "['antartica', 'mount fuji', 'godafoss', 'vinicunca', 'dolomites']\n",
      "['dolomites', 'vinicunca', 'godafoss', 'mount fuji', 'antartica']\n",
      "['antartica', 'dolomites', 'godafoss', 'mount fuji', 'vinicunca']\n",
      "['vinicunca', 'mount fuji', 'godafoss', 'dolomites', 'antartica']\n"
     ]
    }
   ],
   "execution_count": 20
  },
  {
   "metadata": {
    "ExecuteTime": {
     "end_time": "2025-05-10T16:23:02.617411Z",
     "start_time": "2025-05-10T16:23:02.605417Z"
    }
   },
   "cell_type": "code",
   "source": [
    "# Ex3.9 Count Dinner Guests\n",
    "guests = ['shri krishna', 'sant kabir', 'raavan']\n",
    "greeting = 'Swagatam'\n",
    "print(f\"{greeting} Bhagwan {guests[0].title()}\")\n",
    "print(f\"{greeting}! {guests[1].title()}\")\n",
    "print(f\"{greeting}! {guests[2].title()}\")\n",
    "print(f\"-------------------------------\")\n",
    "\n",
    "print(f\"{guests[-1].title()} is unable to make it to the Dinner.\")\n",
    "print(f\"-------------------------------\")\n",
    "guests[-1] = 'Prabhu Ram'\n",
    "print(f\"{greeting} Bhagwan {guests[0].title()}\")\n",
    "print(f\"{greeting}! {guests[1].title()}\")\n",
    "print(f\"{greeting}! {guests[2].title()}\")\n",
    "print(f\"-------------------------------\")\n",
    "print(\"God news! We've found a bigger table, and will see more of our long lost friends.\")\n",
    "\n",
    "guests.insert(0, 'Hanuman ji')\n",
    "guests.insert(len(guests)//2, 'Shiv ji')\n",
    "guests.append('Ganesh ji')\n",
    "print(f\"-------------------------------\")\n",
    "print(f\"{greeting} {guests[0].title()}\")\n",
    "print(f\"{greeting}! {guests[1].title()}\")\n",
    "print(f\"{greeting}! {guests[2].title()}\")\n",
    "print(f\"{greeting}  {guests[3].title()}\")\n",
    "print(f\"{greeting}! {guests[4].title()}\")\n",
    "print(f\"{greeting}! {guests[5].title()}\")\n",
    "print(f\"-------------------------------\")\n",
    "\n",
    "print(f\"Total Guests attending dinner:- {len(guests)}.\")"
   ],
   "id": "8fc0310b11e017b2",
   "outputs": [
    {
     "name": "stdout",
     "output_type": "stream",
     "text": [
      "Swagatam Bhagwan Shri Krishna\n",
      "Swagatam! Sant Kabir\n",
      "Swagatam! Raavan\n",
      "-------------------------------\n",
      "Raavan is unable to make it to the Dinner.\n",
      "-------------------------------\n",
      "Swagatam Bhagwan Shri Krishna\n",
      "Swagatam! Sant Kabir\n",
      "Swagatam! Prabhu Ram\n",
      "-------------------------------\n",
      "God news! We've found a bigger table, and will see more of our long lost friends.\n",
      "-------------------------------\n",
      "Swagatam Hanuman Ji\n",
      "Swagatam! Shri Krishna\n",
      "Swagatam! Shiv Ji\n",
      "Swagatam  Sant Kabir\n",
      "Swagatam! Prabhu Ram\n",
      "Swagatam! Ganesh Ji\n",
      "-------------------------------\n",
      "Total Guests attending dinner:- 6.\n"
     ]
    }
   ],
   "execution_count": 21
  },
  {
   "metadata": {},
   "cell_type": "code",
   "outputs": [],
   "execution_count": null,
   "source": [
    "# 3-10 Every function\n",
    "cities = []"
   ],
   "id": "7f062a12e2369088"
  }
 ],
 "metadata": {
  "kernelspec": {
   "display_name": "Python [conda env:base] *",
   "language": "python",
   "name": "conda-base-py"
  },
  "language_info": {
   "codemirror_mode": {
    "name": "ipython",
    "version": 3
   },
   "file_extension": ".py",
   "mimetype": "text/x-python",
   "name": "python",
   "nbconvert_exporter": "python",
   "pygments_lexer": "ipython3",
   "version": "3.12.7"
  }
 },
 "nbformat": 4,
 "nbformat_minor": 5
}
