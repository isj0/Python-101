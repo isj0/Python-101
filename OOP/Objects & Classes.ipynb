{
 "cells": [
  {
   "cell_type": "markdown",
   "id": "8dc0dae7-3080-4368-a568-dc9399a9731b",
   "metadata": {},
   "source": [
    "# Object Oriented Programming in Python"
   ]
  },
  {
   "cell_type": "code",
   "execution_count": 8,
   "id": "bd739121-fa08-4340-8221-21cb55469e2b",
   "metadata": {},
   "outputs": [],
   "source": [
    "class Student:\n",
    "    name = None"
   ]
  },
  {
   "cell_type": "code",
   "execution_count": 9,
   "id": "2a75b7b9-94cf-40d2-8bfb-1bd7bc6e18df",
   "metadata": {},
   "outputs": [
    {
     "name": "stdout",
     "output_type": "stream",
     "text": [
      "<class '__main__.Student'>\n"
     ]
    }
   ],
   "source": [
    "print(Student)"
   ]
  },
  {
   "cell_type": "code",
   "execution_count": 10,
   "id": "dd74c436-e8a6-43d2-89d7-5071b5754af5",
   "metadata": {},
   "outputs": [
    {
     "name": "stdout",
     "output_type": "stream",
     "text": [
      "None\n"
     ]
    }
   ],
   "source": [
    "s1 = Student()\n",
    "print(s1.name)"
   ]
  },
  {
   "cell_type": "code",
   "execution_count": 11,
   "id": "6cf018bd-000a-4fed-9c03-eeef3d1684a5",
   "metadata": {},
   "outputs": [],
   "source": [
    "s1.name = \"Sunny\""
   ]
  },
  {
   "cell_type": "code",
   "execution_count": 13,
   "id": "4fc26ed2-aa7f-4b94-a2f4-35e32ae74032",
   "metadata": {},
   "outputs": [
    {
     "name": "stdout",
     "output_type": "stream",
     "text": [
      "Sunny\n"
     ]
    }
   ],
   "source": [
    "print(s1.name)"
   ]
  },
  {
   "cell_type": "code",
   "execution_count": 19,
   "id": "0d7ca6df-c30e-4d24-8962-9984f29d8ed7",
   "metadata": {},
   "outputs": [],
   "source": [
    "class Car:\n",
    "    color = \"Blue\"\n",
    "    brand = None"
   ]
  },
  {
   "cell_type": "code",
   "execution_count": 20,
   "id": "01ca7e82-2d38-4547-878f-f9844a70fbb8",
   "metadata": {},
   "outputs": [],
   "source": [
    "c1 = Car()"
   ]
  },
  {
   "cell_type": "code",
   "execution_count": 21,
   "id": "efde036a-5395-4645-abf4-a4c2e09a6ac3",
   "metadata": {},
   "outputs": [
    {
     "name": "stdout",
     "output_type": "stream",
     "text": [
      "Blue\n"
     ]
    }
   ],
   "source": [
    "print(c1.color)"
   ]
  },
  {
   "cell_type": "code",
   "execution_count": 22,
   "id": "2a71fe4c-8dc2-4512-bbe3-cea2797b7d50",
   "metadata": {},
   "outputs": [],
   "source": [
    "c1.color = \"White\""
   ]
  },
  {
   "cell_type": "code",
   "execution_count": 23,
   "id": "f60e882c-4506-4dae-be6a-6f26ae0d4191",
   "metadata": {},
   "outputs": [
    {
     "name": "stdout",
     "output_type": "stream",
     "text": [
      "White\n"
     ]
    }
   ],
   "source": [
    "print(c1.color)"
   ]
  },
  {
   "cell_type": "code",
   "execution_count": 24,
   "id": "e46907d9-7564-4191-8c93-aa1a32f3ca9a",
   "metadata": {},
   "outputs": [],
   "source": [
    "c1.brand = \"Merc\""
   ]
  },
  {
   "cell_type": "code",
   "execution_count": 25,
   "id": "1d472d25-fffe-448a-bb26-2a8c5eb4d6d8",
   "metadata": {},
   "outputs": [
    {
     "data": {
      "text/plain": [
       "'Merc'"
      ]
     },
     "execution_count": 25,
     "metadata": {},
     "output_type": "execute_result"
    }
   ],
   "source": [
    "c1.brand"
   ]
  },
  {
   "cell_type": "code",
   "execution_count": 44,
   "id": "42ac7314-aa74-49fb-ad02-5bd2934fe102",
   "metadata": {},
   "outputs": [],
   "source": [
    "class Student:\n",
    "    def __init__(self, name, marks):\n",
    "        self.name = name\n",
    "        self.marks = marks\n",
    "        print(\"Adding new student\")\n",
    "        "
   ]
  },
  {
   "cell_type": "code",
   "execution_count": 41,
   "id": "7a7b3024-2a49-45ab-beb6-85d63ba479c4",
   "metadata": {},
   "outputs": [
    {
     "name": "stdout",
     "output_type": "stream",
     "text": [
      "Adding new student\n"
     ]
    }
   ],
   "source": [
    "s1 = Student(\"Sunny\")"
   ]
  },
  {
   "cell_type": "code",
   "execution_count": 42,
   "id": "7a2f735d-41f5-49af-a3de-68a9ed34f79f",
   "metadata": {},
   "outputs": [
    {
     "name": "stdout",
     "output_type": "stream",
     "text": [
      "Sunny\n"
     ]
    }
   ],
   "source": [
    "print(s1.name)"
   ]
  },
  {
   "cell_type": "code",
   "execution_count": 43,
   "id": "f1362b50-6621-4a23-975f-57592d91eebd",
   "metadata": {},
   "outputs": [
    {
     "name": "stdout",
     "output_type": "stream",
     "text": [
      "Adding new student\n",
      "Superman\n"
     ]
    }
   ],
   "source": [
    "s2 = Student(\"Superman\")\n",
    "print(s2.name)"
   ]
  },
  {
   "cell_type": "code",
   "execution_count": null,
   "id": "60d8f3f6-4873-4713-8d47-087de9f10ae1",
   "metadata": {},
   "outputs": [],
   "source": []
  }
 ],
 "metadata": {
  "kernelspec": {
   "display_name": "Python [conda env:anaconda3] *",
   "language": "python",
   "name": "conda-env-anaconda3-py"
  },
  "language_info": {
   "codemirror_mode": {
    "name": "ipython",
    "version": 3
   },
   "file_extension": ".py",
   "mimetype": "text/x-python",
   "name": "python",
   "nbconvert_exporter": "python",
   "pygments_lexer": "ipython3",
   "version": "3.12.7"
  }
 },
 "nbformat": 4,
 "nbformat_minor": 5
}
