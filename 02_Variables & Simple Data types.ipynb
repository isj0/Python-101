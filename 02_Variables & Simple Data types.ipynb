{
 "cells": [
  {
   "cell_type": "code",
   "execution_count": null,
   "id": "54aad3c1",
   "metadata": {},
   "outputs": [
    {
     "name": "stdout",
     "output_type": "stream",
     "text": [
      "Good Evening\n",
      "Good night\n"
     ]
    }
   ],
   "source": [
    "# What are Variables?\n",
    "# Variables are boxes that hold values\n",
    "# Here the variable is message and the value\n",
    "# is \"Good Evening\"\n",
    "\n",
    "\n",
    "message = \"Good Evening\"\n",
    "print(message)\n",
    "\n",
    "# You can change the value of the \n",
    "# variable at any time.\n",
    "# Python will keep track of the new value\n",
    "message = \"Good night\"\n",
    "print(message)\n",
    "\n",
    "# Variable names - only letter, numbers & underscores\n",
    "# variable names cannot start with a number\n",
    "# spaces are not allowed\n",
    "# short and descriptive variable names\n",
    "\n",
    "# Errors\n",
    "# Traceback is a recod of where the Python\n",
    "# interpreter ran into trouble when executing the code\n"
   ]
  },
  {
   "cell_type": "code",
   "execution_count": null,
   "id": "f69387e5",
   "metadata": {},
   "outputs": [
    {
     "data": {
      "text/plain": [
       "'This is string'"
      ]
     },
     "execution_count": 6,
     "metadata": {},
     "output_type": "execute_result"
    }
   ],
   "source": [
    "\n",
    "# Strings - Series of characters.\n",
    "# Strings are inside single and double quotes\n",
    "\n",
    "\"This is string\""
   ]
  },
  {
   "cell_type": "code",
   "execution_count": 7,
   "id": "32fb287e",
   "metadata": {},
   "outputs": [
    {
     "data": {
      "text/plain": [
       "'This is also a string'"
      ]
     },
     "execution_count": 7,
     "metadata": {},
     "output_type": "execute_result"
    }
   ],
   "source": [
    "'This is also a string'"
   ]
  },
  {
   "cell_type": "code",
   "execution_count": 8,
   "id": "abf41132",
   "metadata": {},
   "outputs": [
    {
     "name": "stdout",
     "output_type": "stream",
     "text": [
      "Sunny Jassal\n"
     ]
    }
   ],
   "source": [
    "# A method is an action that python can perform on data\n",
    "# dot(.) after the variable tells python to make title()\n",
    "# method act on the variable name\n",
    "# every method is followed by a set of parentheses\n",
    "\n",
    "# title() method - displays each word in titlecase - capital letter\n",
    "\n",
    "name = \"sunny jassal\"\n",
    "print(name.title())"
   ]
  },
  {
   "cell_type": "code",
   "execution_count": 10,
   "id": "3776d713",
   "metadata": {},
   "outputs": [
    {
     "name": "stdout",
     "output_type": "stream",
     "text": [
      "ADA LOVELACE\n",
      "ada lovelace\n"
     ]
    }
   ],
   "source": [
    "name = \"Ada Lovelace\"\n",
    "# upper() method - change the case to uppercase\n",
    "print(name.upper())\n",
    "\n",
    "# lower() - change the case to lower case\n",
    "print(name.lower())"
   ]
  },
  {
   "cell_type": "code",
   "execution_count": null,
   "id": "ff0aa6f1",
   "metadata": {},
   "outputs": [],
   "source": [
    "# combine or concat strings\n"
   ]
  }
 ],
 "metadata": {
  "kernelspec": {
   "display_name": "Python [conda env:base] *",
   "language": "python",
   "name": "conda-base-py"
  },
  "language_info": {
   "codemirror_mode": {
    "name": "ipython",
    "version": 3
   },
   "file_extension": ".py",
   "mimetype": "text/x-python",
   "name": "python",
   "nbconvert_exporter": "python",
   "pygments_lexer": "ipython3",
   "version": "3.12.7"
  }
 },
 "nbformat": 4,
 "nbformat_minor": 5
}
