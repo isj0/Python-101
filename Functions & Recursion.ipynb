{
 "cells": [
  {
   "cell_type": "code",
   "execution_count": 2,
   "id": "e10b3f91-d655-4dde-bcbb-1a2800e521a4",
   "metadata": {},
   "outputs": [
    {
     "data": {
      "text/plain": [
       "11"
      ]
     },
     "execution_count": 2,
     "metadata": {},
     "output_type": "execute_result"
    }
   ],
   "source": [
    "def calc_sum(x, y):\n",
    "    return x+y\n",
    "\n",
    "calc_sum(5, 6)"
   ]
  },
  {
   "cell_type": "code",
   "execution_count": 3,
   "id": "4b617387-92c0-4a36-9549-cbe99db65013",
   "metadata": {},
   "outputs": [
    {
     "name": "stdout",
     "output_type": "stream",
     "text": [
      "110\n"
     ]
    }
   ],
   "source": [
    "def sum(x, y):\n",
    "    print(x + y)\n",
    "\n",
    "sum(50, 60)"
   ]
  },
  {
   "cell_type": "code",
   "execution_count": 6,
   "id": "c03f3306-cd84-415e-87dc-456a55517a4c",
   "metadata": {},
   "outputs": [
    {
     "name": "stdout",
     "output_type": "stream",
     "text": [
      "Hello world$"
     ]
    }
   ],
   "source": [
    "print(\"Hello world\", end=\"$\")"
   ]
  },
  {
   "cell_type": "code",
   "execution_count": null,
   "id": "00fdacb8-9618-4a98-bc2c-884c891db578",
   "metadata": {},
   "outputs": [],
   "source": []
  }
 ],
 "metadata": {
  "kernelspec": {
   "display_name": "Python [conda env:anaconda3] *",
   "language": "python",
   "name": "conda-env-anaconda3-py"
  },
  "language_info": {
   "codemirror_mode": {
    "name": "ipython",
    "version": 3
   },
   "file_extension": ".py",
   "mimetype": "text/x-python",
   "name": "python",
   "nbconvert_exporter": "python",
   "pygments_lexer": "ipython3",
   "version": "3.12.7"
  }
 },
 "nbformat": 4,
 "nbformat_minor": 5
}
