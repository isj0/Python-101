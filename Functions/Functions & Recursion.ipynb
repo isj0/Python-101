{
 "cells": [
  {
   "cell_type": "code",
   "execution_count": null,
   "id": "e10b3f91-d655-4dde-bcbb-1a2800e521a4",
   "metadata": {},
   "outputs": [
    {
     "data": {
      "text/plain": [
       "11"
      ]
     },
     "execution_count": 2,
     "metadata": {},
     "output_type": "execute_result"
    }
   ],
   "source": [
    "def calc_sum(x, y):\n",
    "    return x+y\n",
    "\n",
    "calc_sum(5, 6)"
   ]
  },
  {
   "cell_type": "code",
   "execution_count": null,
   "id": "4b617387-92c0-4a36-9549-cbe99db65013",
   "metadata": {},
   "outputs": [
    {
     "name": "stdout",
     "output_type": "stream",
     "text": [
      "110\n"
     ]
    }
   ],
   "source": [
    "def sum(x, y):\n",
    "    print(x + y)\n",
    "\n",
    "sum(50, 60)"
   ]
  },
  {
   "cell_type": "code",
   "execution_count": null,
   "id": "c03f3306-cd84-415e-87dc-456a55517a4c",
   "metadata": {},
   "outputs": [
    {
     "name": "stdout",
     "output_type": "stream",
     "text": [
      "Hello world$"
     ]
    }
   ],
   "source": [
    "print(\"Hello world\", end=\"$\")"
   ]
  },
  {
   "cell_type": "code",
   "execution_count": 1,
   "id": "00fdacb8-9618-4a98-bc2c-884c891db578",
   "metadata": {},
   "outputs": [],
   "source": [
    "fruits = [\"apple\", \"oranges\", \"papaya\", 3.14159, \"mango\"]"
   ]
  },
  {
   "cell_type": "code",
   "execution_count": 2,
   "id": "920cabc6",
   "metadata": {},
   "outputs": [
    {
     "data": {
      "text/plain": [
       "5"
      ]
     },
     "execution_count": 2,
     "metadata": {},
     "output_type": "execute_result"
    }
   ],
   "source": [
    "len(fruits)"
   ]
  },
  {
   "cell_type": "code",
   "execution_count": 3,
   "id": "cc5aae2d",
   "metadata": {},
   "outputs": [],
   "source": [
    "nums = [10, 63, 81, 1, 99, 108]"
   ]
  },
  {
   "cell_type": "code",
   "execution_count": 4,
   "id": "1b21bc0d",
   "metadata": {},
   "outputs": [
    {
     "data": {
      "text/plain": [
       "108"
      ]
     },
     "execution_count": 4,
     "metadata": {},
     "output_type": "execute_result"
    }
   ],
   "source": [
    "max(nums)"
   ]
  },
  {
   "cell_type": "code",
   "execution_count": 5,
   "id": "5f4eaaed",
   "metadata": {},
   "outputs": [
    {
     "data": {
      "text/plain": [
       "1"
      ]
     },
     "execution_count": 5,
     "metadata": {},
     "output_type": "execute_result"
    }
   ],
   "source": [
    "min(nums)"
   ]
  },
  {
   "cell_type": "code",
   "execution_count": 14,
   "id": "a91c8781",
   "metadata": {},
   "outputs": [
    {
     "name": "stdout",
     "output_type": "stream",
     "text": [
      "1\n",
      "3\n",
      "5\n",
      "7\n",
      "9\n"
     ]
    }
   ],
   "source": [
    "for i in range(1,10, 2):\n",
    "    print(i)"
   ]
  },
  {
   "cell_type": "markdown",
   "id": "bc234bd5",
   "metadata": {},
   "source": [
    "# Modules"
   ]
  },
  {
   "cell_type": "code",
   "execution_count": 15,
   "id": "b79d17e5",
   "metadata": {},
   "outputs": [],
   "source": [
    "# OS Module\n",
    "\n",
    "import os"
   ]
  },
  {
   "cell_type": "code",
   "execution_count": 16,
   "id": "fd1a5b05",
   "metadata": {},
   "outputs": [
    {
     "data": {
      "text/plain": [
       "'/workspaces/Python-101'"
      ]
     },
     "execution_count": 16,
     "metadata": {},
     "output_type": "execute_result"
    }
   ],
   "source": [
    "os.getcwd()"
   ]
  },
  {
   "cell_type": "code",
   "execution_count": 17,
   "id": "7f4c5c80",
   "metadata": {},
   "outputs": [
    {
     "data": {
      "text/plain": [
       "['.git',\n",
       " 'Functions & Recursion.ipynb',\n",
       " '03_Introducing Lists.ipynb',\n",
       " 'Pythons_Collections.ipynb',\n",
       " 'File IO.ipynb',\n",
       " 'Objects & Classes.ipynb',\n",
       " '02_Basics.ipynb']"
      ]
     },
     "execution_count": 17,
     "metadata": {},
     "output_type": "execute_result"
    }
   ],
   "source": [
    "os.listdir()"
   ]
  },
  {
   "cell_type": "code",
   "execution_count": 18,
   "id": "5cc6ce3c",
   "metadata": {},
   "outputs": [],
   "source": [
    "os.makedirs(\"Data Science\")"
   ]
  },
  {
   "cell_type": "code",
   "execution_count": 19,
   "id": "52aa6786",
   "metadata": {},
   "outputs": [
    {
     "data": {
      "text/plain": [
       "['.git',\n",
       " 'Functions & Recursion.ipynb',\n",
       " 'Data Science',\n",
       " '03_Introducing Lists.ipynb',\n",
       " 'Pythons_Collections.ipynb',\n",
       " 'File IO.ipynb',\n",
       " 'Objects & Classes.ipynb',\n",
       " '02_Basics.ipynb']"
      ]
     },
     "execution_count": 19,
     "metadata": {},
     "output_type": "execute_result"
    }
   ],
   "source": [
    "os.listdir()"
   ]
  },
  {
   "cell_type": "code",
   "execution_count": null,
   "id": "2abcb16c",
   "metadata": {},
   "outputs": [],
   "source": []
  }
 ],
 "metadata": {
  "kernelspec": {
   "display_name": "Python 3",
   "language": "python",
   "name": "python3"
  },
  "language_info": {
   "codemirror_mode": {
    "name": "ipython",
    "version": 3
   },
   "file_extension": ".py",
   "mimetype": "text/x-python",
   "name": "python",
   "nbconvert_exporter": "python",
   "pygments_lexer": "ipython3",
   "version": "3.12.1"
  }
 },
 "nbformat": 4,
 "nbformat_minor": 5
}
