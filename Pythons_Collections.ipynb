{
 "cells": [
  {
   "cell_type": "markdown",
   "id": "00504bb3-4034-48e7-b3d3-abcf2bdf1e03",
   "metadata": {},
   "source": [
    "# Intro and Basics"
   ]
  },
  {
   "cell_type": "code",
   "execution_count": 2,
   "id": "c0b0d73c-66d9-48df-9a9c-38c64a7b82b5",
   "metadata": {},
   "outputs": [
    {
     "data": {
      "text/plain": [
       "str"
      ]
     },
     "execution_count": 2,
     "metadata": {},
     "output_type": "execute_result"
    }
   ],
   "source": [
    "type(\"Hello\")"
   ]
  },
  {
   "cell_type": "code",
   "execution_count": 3,
   "id": "4c6969a2-f367-45a1-9a03-f58bb6af2e90",
   "metadata": {},
   "outputs": [
    {
     "data": {
      "text/plain": [
       "bool"
      ]
     },
     "execution_count": 3,
     "metadata": {},
     "output_type": "execute_result"
    }
   ],
   "source": [
    "type(False)"
   ]
  },
  {
   "cell_type": "code",
   "execution_count": 4,
   "id": "c0b916f6-b7f8-4482-a16e-0cc43d07303c",
   "metadata": {},
   "outputs": [
    {
     "data": {
      "text/plain": [
       "'HELLO WORLD'"
      ]
     },
     "execution_count": 4,
     "metadata": {},
     "output_type": "execute_result"
    }
   ],
   "source": [
    "\"Hello World\".upper()"
   ]
  },
  {
   "cell_type": "code",
   "execution_count": 8,
   "id": "2d68f84e-33ae-4b6d-b3c5-8886f51d1204",
   "metadata": {},
   "outputs": [
    {
     "data": {
      "text/plain": [
       "'Hello World'"
      ]
     },
     "execution_count": 8,
     "metadata": {},
     "output_type": "execute_result"
    }
   ],
   "source": [
    "\"hELlO woRlD\".title()"
   ]
  },
  {
   "cell_type": "code",
   "execution_count": 6,
   "id": "6fcf7c60-d558-459c-96e4-7e6c82efbe8b",
   "metadata": {},
   "outputs": [
    {
     "data": {
      "text/plain": [
       "'o hai python'"
      ]
     },
     "execution_count": 6,
     "metadata": {},
     "output_type": "execute_result"
    }
   ],
   "source": [
    "\"O HAI PYTHON\".lower()"
   ]
  },
  {
   "cell_type": "code",
   "execution_count": 9,
   "id": "cdf64c74-51c7-48f2-b071-16b23322b77c",
   "metadata": {},
   "outputs": [
    {
     "data": {
      "text/plain": [
       "3"
      ]
     },
     "execution_count": 9,
     "metadata": {},
     "output_type": "execute_result"
    }
   ],
   "source": [
    "\"Hello World\".count('l')"
   ]
  },
  {
   "cell_type": "code",
   "execution_count": 10,
   "id": "d865d43e-e014-4a2b-aa37-3fce71b1e476",
   "metadata": {},
   "outputs": [
    {
     "data": {
      "text/plain": [
       "'Jello World'"
      ]
     },
     "execution_count": 10,
     "metadata": {},
     "output_type": "execute_result"
    }
   ],
   "source": [
    "\"Hello World\".replace('H', 'J')"
   ]
  },
  {
   "cell_type": "code",
   "execution_count": 12,
   "id": "4f885f9b-a0b6-46f9-890a-3893dfbade23",
   "metadata": {},
   "outputs": [
    {
     "data": {
      "text/plain": [
       "'Heuuo Worud'"
      ]
     },
     "execution_count": 12,
     "metadata": {},
     "output_type": "execute_result"
    }
   ],
   "source": [
    "\"Hello World\".replace('l', 'u')"
   ]
  },
  {
   "cell_type": "markdown",
   "id": "99856d2e-edf2-4c5e-ad98-c6387aafd073",
   "metadata": {},
   "source": [
    "# Variables"
   ]
  },
  {
   "cell_type": "code",
   "execution_count": 13,
   "id": "2253b34b-cce5-4627-9426-c0d0ed0cb224",
   "metadata": {},
   "outputs": [],
   "source": [
    "msg1 = \"I'm learning Python\""
   ]
  },
  {
   "cell_type": "code",
   "execution_count": 14,
   "id": "14d03e91-d168-4279-a61b-45bd08c3be04",
   "metadata": {},
   "outputs": [],
   "source": [
    "msg2 = \"and it's fun!\""
   ]
  },
  {
   "cell_type": "code",
   "execution_count": 15,
   "id": "d6faae61-d938-4b40-9c1b-d9996f22ec2e",
   "metadata": {},
   "outputs": [
    {
     "data": {
      "text/plain": [
       "\"I'm learning Python and it's fun!\""
      ]
     },
     "execution_count": 15,
     "metadata": {},
     "output_type": "execute_result"
    }
   ],
   "source": [
    "msg1 + \" \" + msg2"
   ]
  },
  {
   "cell_type": "code",
   "execution_count": null,
   "id": "a79de89a-97bb-41a8-a07a-12a5d2315582",
   "metadata": {},
   "outputs": [],
   "source": []
  },
  {
   "cell_type": "code",
   "execution_count": null,
   "id": "fe0e38b2-2253-4fc1-96bd-cee85596f5a0",
   "metadata": {},
   "outputs": [],
   "source": []
  },
  {
   "cell_type": "code",
   "execution_count": null,
   "id": "f2427370-0ba4-4967-8cd7-3170e8d92c68",
   "metadata": {},
   "outputs": [],
   "source": []
  },
  {
   "cell_type": "code",
   "execution_count": null,
   "id": "9e475091-0bad-4b57-ba7e-b3e11112f879",
   "metadata": {},
   "outputs": [],
   "source": []
  },
  {
   "cell_type": "code",
   "execution_count": null,
   "id": "8139b649-4c28-4062-b482-702d60c91f48",
   "metadata": {},
   "outputs": [],
   "source": []
  },
  {
   "cell_type": "code",
   "execution_count": null,
   "id": "33bb4d37-5cc5-4ff4-81f4-03c40e6e0246",
   "metadata": {},
   "outputs": [],
   "source": []
  },
  {
   "cell_type": "code",
   "execution_count": null,
   "id": "343cf146-b0f1-41eb-a39c-f037615427dd",
   "metadata": {},
   "outputs": [],
   "source": []
  },
  {
   "cell_type": "markdown",
   "id": "1fc41514-68de-4686-b52f-ccd4e95fcd70",
   "metadata": {},
   "source": [
    "# Lists"
   ]
  },
  {
   "cell_type": "code",
   "execution_count": 2,
   "id": "b401ec6a-412b-447f-89ce-3a319a152f2f",
   "metadata": {},
   "outputs": [],
   "source": [
    "# Lists are used to store multiple items in a single variable\n",
    "# - Indexed\n",
    "# - Ordered\n",
    "# - Mutable\n",
    "# - Duplicates allowed\n",
    "# - Items stored can be any datatype\n",
    "# - You can mix different data types in 1 list"
   ]
  },
  {
   "cell_type": "code",
   "execution_count": 3,
   "id": "b9aa5288-32aa-4265-b841-e86c1ee1c6be",
   "metadata": {},
   "outputs": [],
   "source": [
    "fruits = [\"apple\", \"oranges\", \"papaya\", 3.14159, \"mango\"]"
   ]
  },
  {
   "cell_type": "code",
   "execution_count": 4,
   "id": "b2000e0b-65dd-40e2-ae06-889904e88511",
   "metadata": {},
   "outputs": [
    {
     "data": {
      "text/plain": [
       "3.14159"
      ]
     },
     "execution_count": 4,
     "metadata": {},
     "output_type": "execute_result"
    }
   ],
   "source": [
    "fruits[3]"
   ]
  },
  {
   "cell_type": "code",
   "execution_count": 5,
   "id": "bf8862a3-9109-49bb-9f17-f6bdca006fe6",
   "metadata": {},
   "outputs": [],
   "source": [
    "fruits[3] = True"
   ]
  },
  {
   "cell_type": "code",
   "execution_count": 6,
   "id": "e81126fc-7e46-42f4-8938-42f04ad7b044",
   "metadata": {},
   "outputs": [
    {
     "data": {
      "text/plain": [
       "True"
      ]
     },
     "execution_count": 6,
     "metadata": {},
     "output_type": "execute_result"
    }
   ],
   "source": [
    "fruits[3]"
   ]
  },
  {
   "cell_type": "code",
   "execution_count": 7,
   "id": "2f613ca3-4c62-44e5-87c0-1e2571161e35",
   "metadata": {},
   "outputs": [
    {
     "data": {
      "text/plain": [
       "'mango'"
      ]
     },
     "execution_count": 7,
     "metadata": {},
     "output_type": "execute_result"
    }
   ],
   "source": [
    "fruits[-1]"
   ]
  },
  {
   "cell_type": "code",
   "execution_count": 8,
   "id": "234ca312-94f0-4ffc-b9f3-b66c72db561b",
   "metadata": {},
   "outputs": [
    {
     "name": "stdout",
     "output_type": "stream",
     "text": [
      "['apple', 'oranges', 'papaya', True, 'mango']\n"
     ]
    }
   ],
   "source": [
    "print(fruits)"
   ]
  },
  {
   "cell_type": "code",
   "execution_count": 9,
   "id": "5a8aca22-f84f-47f2-a29b-00126faf9be3",
   "metadata": {},
   "outputs": [
    {
     "data": {
      "text/plain": [
       "['apple', 'oranges', 'papaya', True, 'mango']"
      ]
     },
     "execution_count": 9,
     "metadata": {},
     "output_type": "execute_result"
    }
   ],
   "source": [
    "fruits"
   ]
  },
  {
   "cell_type": "code",
   "execution_count": 10,
   "id": "50995667-7d94-4066-b014-60527c7a9265",
   "metadata": {},
   "outputs": [
    {
     "data": {
      "text/plain": [
       "list"
      ]
     },
     "execution_count": 10,
     "metadata": {},
     "output_type": "execute_result"
    }
   ],
   "source": [
    "type(fruits)"
   ]
  },
  {
   "cell_type": "code",
   "execution_count": 11,
   "id": "1601d40e-dc05-46e7-bd72-a6afc4650774",
   "metadata": {},
   "outputs": [
    {
     "data": {
      "text/plain": [
       "str"
      ]
     },
     "execution_count": 11,
     "metadata": {},
     "output_type": "execute_result"
    }
   ],
   "source": [
    "type(fruits[1])"
   ]
  },
  {
   "cell_type": "code",
   "execution_count": 12,
   "id": "b0e02010-b38e-41f3-ac88-4bd95d4a8a7b",
   "metadata": {},
   "outputs": [
    {
     "data": {
      "text/plain": [
       "bool"
      ]
     },
     "execution_count": 12,
     "metadata": {},
     "output_type": "execute_result"
    }
   ],
   "source": [
    "type(fruits[3])"
   ]
  },
  {
   "cell_type": "code",
   "execution_count": 13,
   "id": "bdb6b2d4-0858-408c-a39e-e1ee023a61c7",
   "metadata": {},
   "outputs": [
    {
     "data": {
      "text/plain": [
       "5"
      ]
     },
     "execution_count": 13,
     "metadata": {},
     "output_type": "execute_result"
    }
   ],
   "source": [
    "len(fruits)"
   ]
  },
  {
   "cell_type": "code",
   "execution_count": 14,
   "id": "b21d94ae-f6d2-4304-b521-a918dd08f859",
   "metadata": {},
   "outputs": [
    {
     "data": {
      "text/plain": [
       "False"
      ]
     },
     "execution_count": 14,
     "metadata": {},
     "output_type": "execute_result"
    }
   ],
   "source": [
    "\"banana\" in fruits"
   ]
  },
  {
   "cell_type": "code",
   "execution_count": 15,
   "id": "db64d156-48c0-4550-ab81-0570c53bbfcb",
   "metadata": {},
   "outputs": [
    {
     "data": {
      "text/plain": [
       "True"
      ]
     },
     "execution_count": 15,
     "metadata": {},
     "output_type": "execute_result"
    }
   ],
   "source": [
    "\"tango\" not in fruits"
   ]
  },
  {
   "cell_type": "code",
   "execution_count": 16,
   "id": "7c272cba-be53-4e00-a3a0-90e11ecc5b59",
   "metadata": {},
   "outputs": [
    {
     "data": {
      "text/plain": [
       "False"
      ]
     },
     "execution_count": 16,
     "metadata": {},
     "output_type": "execute_result"
    }
   ],
   "source": [
    "\"mango\" not in fruits"
   ]
  },
  {
   "cell_type": "code",
   "execution_count": 17,
   "id": "cf92329a-e6ac-415f-aa7d-937f9584fd27",
   "metadata": {},
   "outputs": [
    {
     "data": {
      "text/plain": [
       "True"
      ]
     },
     "execution_count": 17,
     "metadata": {},
     "output_type": "execute_result"
    }
   ],
   "source": [
    "\"mango\" in fruits"
   ]
  },
  {
   "cell_type": "code",
   "execution_count": 18,
   "id": "4285c5b8-9057-435c-a64b-6f9d9c9e021a",
   "metadata": {},
   "outputs": [],
   "source": [
    "if \"kiwi\" not in fruits:\n",
    "    fruits.append(\"kiwi\")"
   ]
  },
  {
   "cell_type": "code",
   "execution_count": 19,
   "id": "663ca9f9-debf-41d6-923d-5cb848382a2e",
   "metadata": {},
   "outputs": [
    {
     "data": {
      "text/plain": [
       "['apple', 'oranges', 'papaya', True, 'mango', 'kiwi']"
      ]
     },
     "execution_count": 19,
     "metadata": {},
     "output_type": "execute_result"
    }
   ],
   "source": [
    "fruits"
   ]
  },
  {
   "cell_type": "code",
   "execution_count": 20,
   "id": "154e7456-0b48-4a35-ae32-043889b33449",
   "metadata": {},
   "outputs": [
    {
     "data": {
      "text/plain": [
       "True"
      ]
     },
     "execution_count": 20,
     "metadata": {},
     "output_type": "execute_result"
    }
   ],
   "source": [
    "\"kiwi\" in fruits"
   ]
  },
  {
   "cell_type": "code",
   "execution_count": 21,
   "id": "2b41d3ee-b612-4242-94b0-cb2cc260fdec",
   "metadata": {},
   "outputs": [
    {
     "data": {
      "text/plain": [
       "'mango'"
      ]
     },
     "execution_count": 21,
     "metadata": {},
     "output_type": "execute_result"
    }
   ],
   "source": [
    "fruits[-2]"
   ]
  },
  {
   "cell_type": "code",
   "execution_count": 22,
   "id": "32f81aba-a969-4578-9bde-9250b7a1fa65",
   "metadata": {},
   "outputs": [
    {
     "data": {
      "text/plain": [
       "True"
      ]
     },
     "execution_count": 22,
     "metadata": {},
     "output_type": "execute_result"
    }
   ],
   "source": [
    "fruits[-3]"
   ]
  },
  {
   "cell_type": "code",
   "execution_count": 23,
   "id": "05aeac7b-10d6-4aa3-a64a-6672d0942c0c",
   "metadata": {},
   "outputs": [
    {
     "data": {
      "text/plain": [
       "['apple', 'oranges', 'papaya', True, 'mango', 'kiwi']"
      ]
     },
     "execution_count": 23,
     "metadata": {},
     "output_type": "execute_result"
    }
   ],
   "source": [
    "fruits[:]"
   ]
  },
  {
   "cell_type": "code",
   "execution_count": 24,
   "id": "7b11e23d-91b7-45ab-8d65-ef74cd72137d",
   "metadata": {},
   "outputs": [
    {
     "ename": "TypeError",
     "evalue": "slice indices must be integers or None or have an __index__ method",
     "output_type": "error",
     "traceback": [
      "\u001b[1;31m---------------------------------------------------------------------------\u001b[0m",
      "\u001b[1;31mTypeError\u001b[0m                                 Traceback (most recent call last)",
      "Cell \u001b[1;32mIn[24], line 1\u001b[0m\n\u001b[1;32m----> 1\u001b[0m fruits[:\u001b[38;5;28mlen\u001b[39m]\n",
      "\u001b[1;31mTypeError\u001b[0m: slice indices must be integers or None or have an __index__ method"
     ]
    }
   ],
   "source": [
    "fruits[:len]"
   ]
  },
  {
   "cell_type": "code",
   "execution_count": null,
   "id": "050c2e3a-56e2-4e63-abcb-14334d8a5748",
   "metadata": {},
   "outputs": [],
   "source": [
    "\n",
    "fruits[:len(fruits)]"
   ]
  },
  {
   "cell_type": "code",
   "execution_count": null,
   "id": "97a0f5b0-c65b-4bcd-89ce-28a763689c47",
   "metadata": {},
   "outputs": [],
   "source": [
    "fruits[2:2]"
   ]
  },
  {
   "cell_type": "code",
   "execution_count": null,
   "id": "9a5cfe39-da97-4bc8-bbc4-152d288bf630",
   "metadata": {},
   "outputs": [],
   "source": [
    "fruits[2:3]"
   ]
  },
  {
   "cell_type": "code",
   "execution_count": null,
   "id": "acb459c1-d244-4d9d-b918-067e12ccdaf5",
   "metadata": {},
   "outputs": [],
   "source": [
    "fruits[-3:]"
   ]
  },
  {
   "cell_type": "code",
   "execution_count": null,
   "id": "5974eb85-1810-4848-9bf0-93e229deb972",
   "metadata": {},
   "outputs": [],
   "source": [
    "fruits[-3:-1]"
   ]
  },
  {
   "cell_type": "code",
   "execution_count": null,
   "id": "bc73d228-8f75-47e1-a2aa-bd9c44dfb2e3",
   "metadata": {},
   "outputs": [],
   "source": [
    "fav_fruits = fruits[1:3]"
   ]
  },
  {
   "cell_type": "code",
   "execution_count": null,
   "id": "6237f3df-536d-4a58-b68c-89c3b94dc81a",
   "metadata": {},
   "outputs": [],
   "source": [
    "fav_fruits"
   ]
  },
  {
   "cell_type": "code",
   "execution_count": 26,
   "id": "6e8e45ee-35d0-459d-8423-07eba941693f",
   "metadata": {},
   "outputs": [],
   "source": [
    "fruits.append(\"Apple\")"
   ]
  },
  {
   "cell_type": "code",
   "execution_count": 27,
   "id": "0a37cb37-4523-4201-8dde-611248d2365d",
   "metadata": {},
   "outputs": [
    {
     "data": {
      "text/plain": [
       "['apple', 'oranges', 'papaya', True, 'mango', 'kiwi', 'Apple']"
      ]
     },
     "execution_count": 27,
     "metadata": {},
     "output_type": "execute_result"
    }
   ],
   "source": [
    "fruits"
   ]
  },
  {
   "cell_type": "code",
   "execution_count": 28,
   "id": "abe9a8ed-7ac0-477e-ad04-81ae9fc00799",
   "metadata": {},
   "outputs": [],
   "source": [
    "veggies = [\"brocoli\", \"peppers\"]"
   ]
  },
  {
   "cell_type": "code",
   "execution_count": 29,
   "id": "65287049-0f61-4d14-88fb-5478fada02e0",
   "metadata": {},
   "outputs": [],
   "source": [
    "fruits.extend(veggies)"
   ]
  },
  {
   "cell_type": "code",
   "execution_count": 30,
   "id": "cc3aa38b-0d13-4a8d-b274-510eec05a367",
   "metadata": {},
   "outputs": [
    {
     "data": {
      "text/plain": [
       "['apple',\n",
       " 'oranges',\n",
       " 'papaya',\n",
       " True,\n",
       " 'mango',\n",
       " 'kiwi',\n",
       " 'Apple',\n",
       " 'brocoli',\n",
       " 'peppers']"
      ]
     },
     "execution_count": 30,
     "metadata": {},
     "output_type": "execute_result"
    }
   ],
   "source": [
    "fruits"
   ]
  },
  {
   "cell_type": "code",
   "execution_count": 31,
   "id": "428c3fe5-d9bb-4001-bbfa-bf8e18641784",
   "metadata": {},
   "outputs": [],
   "source": [
    "fruits.insert(2, \"Squash\")"
   ]
  },
  {
   "cell_type": "code",
   "execution_count": 32,
   "id": "0cfdcf6f-228d-48b0-b13d-6092e3a5f9e7",
   "metadata": {},
   "outputs": [
    {
     "data": {
      "text/plain": [
       "['apple',\n",
       " 'oranges',\n",
       " 'Squash',\n",
       " 'papaya',\n",
       " True,\n",
       " 'mango',\n",
       " 'kiwi',\n",
       " 'Apple',\n",
       " 'brocoli',\n",
       " 'peppers']"
      ]
     },
     "execution_count": 32,
     "metadata": {},
     "output_type": "execute_result"
    }
   ],
   "source": [
    "fruits"
   ]
  },
  {
   "cell_type": "code",
   "execution_count": 33,
   "id": "2b002d35-4ff2-4d97-8904-66c50910ef4f",
   "metadata": {},
   "outputs": [
    {
     "data": {
      "text/plain": [
       "'papaya'"
      ]
     },
     "execution_count": 33,
     "metadata": {},
     "output_type": "execute_result"
    }
   ],
   "source": [
    "fruits.pop(3)"
   ]
  },
  {
   "cell_type": "code",
   "execution_count": 34,
   "id": "ee473d2b-b852-416f-8313-1cf7b7cf835d",
   "metadata": {},
   "outputs": [
    {
     "data": {
      "text/plain": [
       "['apple',\n",
       " 'oranges',\n",
       " 'Squash',\n",
       " True,\n",
       " 'mango',\n",
       " 'kiwi',\n",
       " 'Apple',\n",
       " 'brocoli',\n",
       " 'peppers']"
      ]
     },
     "execution_count": 34,
     "metadata": {},
     "output_type": "execute_result"
    }
   ],
   "source": [
    "fruits"
   ]
  },
  {
   "cell_type": "code",
   "execution_count": 35,
   "id": "f02f6cd2-e39e-467a-9266-6ce12d0dc226",
   "metadata": {},
   "outputs": [
    {
     "data": {
      "text/plain": [
       "'peppers'"
      ]
     },
     "execution_count": 35,
     "metadata": {},
     "output_type": "execute_result"
    }
   ],
   "source": [
    "fruits.pop()"
   ]
  },
  {
   "cell_type": "code",
   "execution_count": 36,
   "id": "aa5e4ca0-5a8a-4b7a-920a-5eb274388f0b",
   "metadata": {},
   "outputs": [
    {
     "data": {
      "text/plain": [
       "['apple', 'oranges', 'Squash', True, 'mango', 'kiwi', 'Apple', 'brocoli']"
      ]
     },
     "execution_count": 36,
     "metadata": {},
     "output_type": "execute_result"
    }
   ],
   "source": [
    "fruits"
   ]
  },
  {
   "cell_type": "code",
   "execution_count": 37,
   "id": "00c81326-e080-4513-9d48-3c31eec152e6",
   "metadata": {},
   "outputs": [],
   "source": [
    "fruits.remove(\"apple\")"
   ]
  },
  {
   "cell_type": "code",
   "execution_count": 38,
   "id": "470b13cb-6053-4d9d-8bd6-bce954e46083",
   "metadata": {},
   "outputs": [
    {
     "data": {
      "text/plain": [
       "['oranges', 'Squash', True, 'mango', 'kiwi', 'Apple', 'brocoli']"
      ]
     },
     "execution_count": 38,
     "metadata": {},
     "output_type": "execute_result"
    }
   ],
   "source": [
    "fruits"
   ]
  },
  {
   "cell_type": "code",
   "execution_count": 39,
   "id": "ff845d03-4090-4a17-9664-98c0fcbeaff5",
   "metadata": {},
   "outputs": [],
   "source": [
    "fruits.remove(\"Apple\")"
   ]
  },
  {
   "cell_type": "code",
   "execution_count": 40,
   "id": "7e20ad0b-c9d4-496d-a7f8-c0b8a33bf2bc",
   "metadata": {},
   "outputs": [
    {
     "data": {
      "text/plain": [
       "['oranges', 'Squash', True, 'mango', 'kiwi', 'brocoli']"
      ]
     },
     "execution_count": 40,
     "metadata": {},
     "output_type": "execute_result"
    }
   ],
   "source": [
    "fruits"
   ]
  },
  {
   "cell_type": "code",
   "execution_count": 42,
   "id": "d5c4c77b-2fc2-4316-b057-0431b7ccd52d",
   "metadata": {},
   "outputs": [],
   "source": [
    "fruits[1:3] = \"Apple\", \"Drangon fruit\", \"Mandarin\""
   ]
  },
  {
   "cell_type": "code",
   "execution_count": 43,
   "id": "69d32692-5aae-44f4-b155-7d27184d7d7f",
   "metadata": {},
   "outputs": [
    {
     "data": {
      "text/plain": [
       "['oranges', 'Apple', 'Drangon fruit', 'Mandarin', 'mango', 'kiwi', 'brocoli']"
      ]
     },
     "execution_count": 43,
     "metadata": {},
     "output_type": "execute_result"
    }
   ],
   "source": [
    "fruits"
   ]
  },
  {
   "cell_type": "code",
   "execution_count": 44,
   "id": "fdc75b32-a913-47c4-9ff6-c95fb11d9b4e",
   "metadata": {},
   "outputs": [],
   "source": [
    "fruits[1:3] = [1, 2, 3]"
   ]
  },
  {
   "cell_type": "code",
   "execution_count": 45,
   "id": "0ad29695-a636-41bc-9e34-dfd03fff1c91",
   "metadata": {},
   "outputs": [
    {
     "data": {
      "text/plain": [
       "['oranges', 1, 2, 3, 'Mandarin', 'mango', 'kiwi', 'brocoli']"
      ]
     },
     "execution_count": 45,
     "metadata": {},
     "output_type": "execute_result"
    }
   ],
   "source": [
    "fruits"
   ]
  },
  {
   "cell_type": "code",
   "execution_count": 46,
   "id": "94facb4f-4e30-4bc4-a0f6-f3a10ce64884",
   "metadata": {},
   "outputs": [],
   "source": [
    "fruits[:] = \"This is awesome\""
   ]
  },
  {
   "cell_type": "code",
   "execution_count": 47,
   "id": "d5188b12-cf1c-4e7f-b0d3-585730e95c45",
   "metadata": {},
   "outputs": [
    {
     "data": {
      "text/plain": [
       "['T', 'h', 'i', 's', ' ', 'i', 's', ' ', 'a', 'w', 'e', 's', 'o', 'm', 'e']"
      ]
     },
     "execution_count": 47,
     "metadata": {},
     "output_type": "execute_result"
    }
   ],
   "source": [
    "\n",
    "fruits"
   ]
  },
  {
   "cell_type": "code",
   "execution_count": 48,
   "id": "9b082868-5e19-40a3-a428-7e362d064986",
   "metadata": {},
   "outputs": [],
   "source": [
    "fruits = [['oranges', 1, 2, 3, 'Mandarin', 'mango', 'kiwi', 'brocoli']]"
   ]
  },
  {
   "cell_type": "code",
   "execution_count": null,
   "id": "6284e039-5c86-4ec6-90aa-06d7691a4f53",
   "metadata": {},
   "outputs": [],
   "source": []
  }
 ],
 "metadata": {
  "kernelspec": {
   "display_name": "Python [conda env:anaconda3] *",
   "language": "python",
   "name": "conda-env-anaconda3-py"
  },
  "language_info": {
   "codemirror_mode": {
    "name": "ipython",
    "version": 3
   },
   "file_extension": ".py",
   "mimetype": "text/x-python",
   "name": "python",
   "nbconvert_exporter": "python",
   "pygments_lexer": "ipython3",
   "version": "3.12.7"
  }
 },
 "nbformat": 4,
 "nbformat_minor": 5
}
